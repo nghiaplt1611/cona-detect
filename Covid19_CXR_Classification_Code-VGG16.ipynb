{
  "nbformat": 4,
  "nbformat_minor": 0,
  "metadata": {
    "colab": {
      "name": "Covid19_CXR_Classification_Code.ipynb",
      "provenance": [],
      "collapsed_sections": [],
      "toc_visible": true
    },
    "kernelspec": {
      "name": "python3",
      "display_name": "Python 3"
    },
    "accelerator": "GPU"
  },
  "cells": [
    {
      "cell_type": "markdown",
      "metadata": {
        "id": "gyG4OC_n_Bgb",
        "colab_type": "text"
      },
      "source": [
        "CoroNet: COVID19 Chest XRays classification model \n",
        "By Dr Asif Iqbal Khan\n",
        "\n",
        "\n",
        "The model uses Xception/InceptionResNetV2/NasNet as base model pre-trained on ImageNet, retrained on Chest X-rays dataset \n",
        "\n",
        "\n",
        "\n"
      ]
    },
    {
      "cell_type": "markdown",
      "metadata": {
        "id": "dDmE5_NHRagI",
        "colab_type": "text"
      },
      "source": [
        "Mount Google Drive to load models containing X-ray images in personal folder"
      ]
    },
    {
      "cell_type": "code",
      "metadata": {
        "id": "tyAhoZAvfDXR",
        "colab_type": "code",
        "colab": {
          "base_uri": "https://localhost:8080/",
          "height": 34
        },
        "outputId": "e178fc2d-6721-4375-dfe7-d4d2cc328ce1"
      },
      "source": [
        "# Mount Google Drive by importing drive from google colab\n",
        "# Get the authorization code for connecting to user's drive to mount\n",
        "\n",
        "from google.colab import drive\n",
        "drive.mount('/content/drive')"
      ],
      "execution_count": 1,
      "outputs": [
        {
          "output_type": "stream",
          "text": [
            "Drive already mounted at /content/drive; to attempt to forcibly remount, call drive.mount(\"/content/drive\", force_remount=True).\n"
          ],
          "name": "stdout"
        }
      ]
    },
    {
      "cell_type": "code",
      "metadata": {
        "id": "prEpiZCC5HYY",
        "colab_type": "code",
        "colab": {}
      },
      "source": [
        "# Copy dataset folder from Google Drive\n",
        "\n",
        "!cp -R /content/drive/\"My Drive\"/DATASET/covid-19 /content\n"
      ],
      "execution_count": 2,
      "outputs": []
    },
    {
      "cell_type": "code",
      "metadata": {
        "id": "JHtRS9Wf9mZc",
        "colab_type": "code",
        "colab": {}
      },
      "source": [
        "#import libraries and packages\n",
        "\n",
        "from numpy.random import seed\n",
        "seed(8) #1\n",
        "\n",
        "import tensorflow\n",
        "tensorflow.random.set_seed(7)\n",
        "\n",
        "import numpy as np # linear algebra\n",
        "import pandas as pd # data processing, CSV file I/O (e.g. pd.read_csv)\n",
        "\n",
        "import os\n",
        "\n",
        "from tensorflow.keras import backend as K\n",
        "from tensorflow.keras.models import Model ,load_model\n",
        "from tensorflow.keras.layers import Flatten, Dense, Dropout\n",
        "from tensorflow.keras.applications.inception_resnet_v2 import InceptionResNetV2, preprocess_input\n",
        "from keras.applications.vgg16 import preprocess_input\n",
        "from keras.applications.vgg16 import decode_predictions\n",
        "from keras.applications.vgg16 import VGG16\n",
        "from tensorflow.keras.optimizers import Adam, RMSprop\n",
        "from tensorflow.keras.preprocessing.image import ImageDataGenerator\n",
        "from tensorflow.keras.callbacks import ModelCheckpoint\n",
        "import numpy as np\n",
        "import tensorflow as tf\n",
        "\n",
        "from tensorflow.python.keras import models\n",
        "from tensorflow.python.keras import layers\n",
        "\n",
        "from tensorflow.keras import optimizers\n",
        "\n",
        "\n"
      ],
      "execution_count": 3,
      "outputs": []
    },
    {
      "cell_type": "code",
      "metadata": {
        "id": "cvTuKxbA_6Qx",
        "colab_type": "code",
        "colab": {
          "base_uri": "https://localhost:8080/",
          "height": 34
        },
        "outputId": "d9b98a1b-c459-40d3-dff0-43c09e7d86fb"
      },
      "source": [
        "print(os.listdir(\"/content/\"))\n",
        "\n",
        "#Print and remove zips once done\n",
        "\n"
      ],
      "execution_count": 4,
      "outputs": [
        {
          "output_type": "stream",
          "text": [
            "['.config', '4-class-Covid19-Mod-Xception.h5', 'drive', 'covid-19', 'sample_data']\n"
          ],
          "name": "stdout"
        }
      ]
    },
    {
      "cell_type": "code",
      "metadata": {
        "id": "y8o_f_kN07sV",
        "colab_type": "code",
        "colab": {
          "base_uri": "https://localhost:8080/",
          "height": 34
        },
        "outputId": "e9a7f75c-5416-41b5-a819-b0afc6d8a7fe"
      },
      "source": [
        "ls covid-19/four_classes/train"
      ],
      "execution_count": 5,
      "outputs": [
        {
          "output_type": "stream",
          "text": [
            "\u001b[0m\u001b[01;34mcovid\u001b[0m/  \u001b[01;34mnormal\u001b[0m/  \u001b[01;34mpneumonia_bacterial\u001b[0m/  \u001b[01;34mpneumonia_viral\u001b[0m/\n"
          ],
          "name": "stdout"
        }
      ]
    },
    {
      "cell_type": "markdown",
      "metadata": {
        "id": "SW7NXqkh-Gk8",
        "colab_type": "text"
      },
      "source": [
        "**Crete Data Generators to preprocess and prepare training and validation**"
      ]
    },
    {
      "cell_type": "code",
      "metadata": {
        "id": "0BfmpmKd-JOb",
        "colab_type": "code",
        "colab": {
          "base_uri": "https://localhost:8080/",
          "height": 121
        },
        "outputId": "3c684c66-4bd9-45cc-90d2-e58690c6c7e7"
      },
      "source": [
        "\n",
        "from os import listdir\n",
        "#data_list = listdir('/content/covid-19/four_classes/train')\n",
        "data_list = listdir('/content/drive/My Drive/DATASET/covid-19/four_classes/train')\n",
        "\n",
        "#Delete some classes that may interfere\n",
        "\n",
        "print(len(data_list))\n",
        "\n",
        "\n",
        "DATASET_PATH  = '/content/drive/My Drive/DATASET/covid-19/four_classes/train'\n",
        "test_dir =  '/content/drive/My Drive/DATASET/covid-19/four_classes/test'\n",
        "IMAGE_SIZE    = (128, 128)\n",
        "NUM_CLASSES   = len(data_list)\n",
        "BATCH_SIZE    = 32  # try reducing batch size or freeze more layers if your GPU runs out of memory\n",
        "NUM_EPOCHS    = 80\n",
        "LEARNING_RATE = 0.00001\n",
        "\n",
        "\n",
        "\n",
        "#Train datagen here is a preprocessor\n",
        "train_datagen = ImageDataGenerator(rescale=1./255,\n",
        "                                   rotation_range=50,\n",
        "                                   featurewise_center = True,\n",
        "                                   featurewise_std_normalization = True,\n",
        "                                   width_shift_range=0.2,\n",
        "                                   height_shift_range=0.2,\n",
        "                                   shear_range=0.25,\n",
        "                                   zoom_range=0.1,\n",
        "                                   zca_whitening = True,\n",
        "                                   channel_shift_range = 20,\n",
        "                                   horizontal_flip = True ,\n",
        "                                   vertical_flip = True ,\n",
        "                                   validation_split = 0.2,\n",
        "                                   fill_mode='constant')\n",
        "\n",
        "\n",
        "\n",
        "# For multiclass use categorical n for binary use binary\n",
        "train_batches = train_datagen.flow_from_directory(DATASET_PATH,\n",
        "                                                  target_size=IMAGE_SIZE,\n",
        "                                                  shuffle=True,\n",
        "                                                  batch_size=BATCH_SIZE,\n",
        "                                                  subset = \"training\",\n",
        "                                                  seed=42,\n",
        "                                                  class_mode=\"categorical\"   #For multiclass use categorical n for binary use binary\n",
        "                                                  )\n",
        "\n",
        "valid_batches = train_datagen.flow_from_directory(DATASET_PATH,\n",
        "                                                  target_size=IMAGE_SIZE,\n",
        "                                                  shuffle=True,\n",
        "                                                  batch_size=BATCH_SIZE,\n",
        "                                                  subset = \"validation\",\n",
        "                                                  seed=42,\n",
        "                                                  class_mode=\"categorical\"  #For multiclass use categorical n for binary use binary\n",
        "                                                 \n",
        "                                                  )\n",
        "\n"
      ],
      "execution_count": 6,
      "outputs": [
        {
          "output_type": "stream",
          "text": [
            "4\n",
            "Found 1489 images belonging to 4 classes.\n",
            "Found 370 images belonging to 4 classes.\n"
          ],
          "name": "stdout"
        },
        {
          "output_type": "stream",
          "text": [
            "/usr/local/lib/python3.6/dist-packages/keras_preprocessing/image/image_data_generator.py:342: UserWarning: This ImageDataGenerator specifies `zca_whitening` which overrides setting of`featurewise_std_normalization`.\n",
            "  warnings.warn('This ImageDataGenerator specifies '\n"
          ],
          "name": "stderr"
        }
      ]
    },
    {
      "cell_type": "code",
      "metadata": {
        "id": "i7748nBfIzv1",
        "colab_type": "code",
        "colab": {
          "base_uri": "https://localhost:8080/",
          "height": 67
        },
        "outputId": "efa6c9c8-5174-4210-f1a6-ee287398760a"
      },
      "source": [
        "path=\"/content/covid-19/four_classes/\"\n",
        "!ls -a /content/covid-19/four_classes/train/.ipynb_checkpoints\n",
        "!rm -R /content/covid-19/four_classes/test/.ipynb_checkpoints \n",
        "!pwd"
      ],
      "execution_count": 7,
      "outputs": [
        {
          "output_type": "stream",
          "text": [
            "ls: cannot access '/content/covid-19/four_classes/train/.ipynb_checkpoints': No such file or directory\n",
            "rm: cannot remove '/content/covid-19/four_classes/test/.ipynb_checkpoints': No such file or directory\n",
            "/content\n"
          ],
          "name": "stdout"
        }
      ]
    },
    {
      "cell_type": "markdown",
      "metadata": {
        "id": "Arc_63PU-O5K",
        "colab_type": "text"
      },
      "source": [
        "Create a new model or Use Pre trained CNN Model and modify according to the need. "
      ]
    },
    {
      "cell_type": "code",
      "metadata": {
        "id": "lyGm7tYQBBr1",
        "colab_type": "code",
        "colab": {}
      },
      "source": [
        "#Simple CNN model based on Xception. Set dense layer neuron count same as the no. of output classes \n",
        "#If you wnna use a saved model then skip this step\n",
        "\n",
        "\n",
        "from tensorflow.keras.applications import VGG16\n",
        "\n",
        "conv_base = VGG16(weights='imagenet',\n",
        "                  include_top=False,\n",
        "                  input_shape=(128, 128, 3))\n",
        "\n",
        "\n",
        "conv_base.trainable = True\n",
        "\n",
        "\n",
        "model = models.Sequential()\n",
        "model.add(conv_base)\n",
        "\n",
        "\n",
        "\n",
        "\n",
        "model.add(layers.Flatten())\n",
        "model.add(layers.Dropout(0.5))\n",
        "model.add(layers.Dense(256, activation='relu'))\n",
        "model.add(layers.Dense(4, activation='softmax'))\n",
        "\n",
        "\n",
        "model.compile(loss='categorical_crossentropy',     #for multiclass use categorical_crossentropy\n",
        "              \n",
        "              optimizer=optimizers.Adam(lr=LEARNING_RATE),\n",
        "              metrics=['acc'])"
      ],
      "execution_count": 8,
      "outputs": []
    },
    {
      "cell_type": "markdown",
      "metadata": {
        "id": "Ys977cbc6F_T",
        "colab_type": "text"
      },
      "source": [
        "**Load an already saved model (If there is a trained model already saved on drive)**"
      ]
    },
    {
      "cell_type": "code",
      "metadata": {
        "id": "GKDLJZjL-UlA",
        "colab_type": "code",
        "colab": {
          "base_uri": "https://localhost:8080/",
          "height": 1000
        },
        "outputId": "e56ec690-deea-4897-8b50-9711f798b14f"
      },
      "source": [
        "#Load saved model from .hs file, otherwise disable this line\n",
        "#model=load_model('/content/drive/My Drive/Colab Notebooks/4-class-Covid19-Mod-Xception.h5')\n",
        "print(model.summary())\n",
        "print(conv_base.summary())\n"
      ],
      "execution_count": 9,
      "outputs": [
        {
          "output_type": "stream",
          "text": [
            "Model: \"sequential\"\n",
            "_________________________________________________________________\n",
            "Layer (type)                 Output Shape              Param #   \n",
            "=================================================================\n",
            "vgg16 (Functional)           (None, 4, 4, 512)         14714688  \n",
            "_________________________________________________________________\n",
            "flatten (Flatten)            (None, 8192)              0         \n",
            "_________________________________________________________________\n",
            "dropout (Dropout)            (None, 8192)              0         \n",
            "_________________________________________________________________\n",
            "dense (Dense)                (None, 256)               2097408   \n",
            "_________________________________________________________________\n",
            "dense_1 (Dense)              (None, 4)                 1028      \n",
            "=================================================================\n",
            "Total params: 16,813,124\n",
            "Trainable params: 16,813,124\n",
            "Non-trainable params: 0\n",
            "_________________________________________________________________\n",
            "None\n",
            "Model: \"vgg16\"\n",
            "_________________________________________________________________\n",
            "Layer (type)                 Output Shape              Param #   \n",
            "=================================================================\n",
            "input_1 (InputLayer)         [(None, 128, 128, 3)]     0         \n",
            "_________________________________________________________________\n",
            "block1_conv1 (Conv2D)        (None, 128, 128, 64)      1792      \n",
            "_________________________________________________________________\n",
            "block1_conv2 (Conv2D)        (None, 128, 128, 64)      36928     \n",
            "_________________________________________________________________\n",
            "block1_pool (MaxPooling2D)   (None, 64, 64, 64)        0         \n",
            "_________________________________________________________________\n",
            "block2_conv1 (Conv2D)        (None, 64, 64, 128)       73856     \n",
            "_________________________________________________________________\n",
            "block2_conv2 (Conv2D)        (None, 64, 64, 128)       147584    \n",
            "_________________________________________________________________\n",
            "block2_pool (MaxPooling2D)   (None, 32, 32, 128)       0         \n",
            "_________________________________________________________________\n",
            "block3_conv1 (Conv2D)        (None, 32, 32, 256)       295168    \n",
            "_________________________________________________________________\n",
            "block3_conv2 (Conv2D)        (None, 32, 32, 256)       590080    \n",
            "_________________________________________________________________\n",
            "block3_conv3 (Conv2D)        (None, 32, 32, 256)       590080    \n",
            "_________________________________________________________________\n",
            "block3_pool (MaxPooling2D)   (None, 16, 16, 256)       0         \n",
            "_________________________________________________________________\n",
            "block4_conv1 (Conv2D)        (None, 16, 16, 512)       1180160   \n",
            "_________________________________________________________________\n",
            "block4_conv2 (Conv2D)        (None, 16, 16, 512)       2359808   \n",
            "_________________________________________________________________\n",
            "block4_conv3 (Conv2D)        (None, 16, 16, 512)       2359808   \n",
            "_________________________________________________________________\n",
            "block4_pool (MaxPooling2D)   (None, 8, 8, 512)         0         \n",
            "_________________________________________________________________\n",
            "block5_conv1 (Conv2D)        (None, 8, 8, 512)         2359808   \n",
            "_________________________________________________________________\n",
            "block5_conv2 (Conv2D)        (None, 8, 8, 512)         2359808   \n",
            "_________________________________________________________________\n",
            "block5_conv3 (Conv2D)        (None, 8, 8, 512)         2359808   \n",
            "_________________________________________________________________\n",
            "block5_pool (MaxPooling2D)   (None, 4, 4, 512)         0         \n",
            "=================================================================\n",
            "Total params: 14,714,688\n",
            "Trainable params: 14,714,688\n",
            "Non-trainable params: 0\n",
            "_________________________________________________________________\n",
            "None\n"
          ],
          "name": "stdout"
        }
      ]
    },
    {
      "cell_type": "markdown",
      "metadata": {
        "id": "qh3QQZLz-yLW",
        "colab_type": "text"
      },
      "source": [
        "Training"
      ]
    },
    {
      "cell_type": "code",
      "metadata": {
        "id": "F7IwDhx5-iKe",
        "colab_type": "code",
        "colab": {
          "base_uri": "https://localhost:8080/",
          "height": 1000
        },
        "outputId": "ceddba3c-544e-4649-960b-5c8e74be566f"
      },
      "source": [
        "#FIT MODEL\n",
        "print(len(train_batches))\n",
        "print(len(valid_batches))\n",
        "\n",
        "STEP_SIZE_TRAIN=train_batches.n//train_batches.batch_size\n",
        "STEP_SIZE_VALID=valid_batches.n//valid_batches.batch_size\n",
        "\n",
        "result=model.fit_generator(train_batches,\n",
        "                        steps_per_epoch =STEP_SIZE_TRAIN,\n",
        "                        validation_data = valid_batches,\n",
        "                        validation_steps = STEP_SIZE_VALID,\n",
        "                        epochs= NUM_EPOCHS,                        \n",
        "                       )\n",
        "\n"
      ],
      "execution_count": 10,
      "outputs": [
        {
          "output_type": "stream",
          "text": [
            "47\n",
            "12\n",
            "WARNING:tensorflow:From <ipython-input-10-378e3394e2b9>:12: Model.fit_generator (from tensorflow.python.keras.engine.training) is deprecated and will be removed in a future version.\n",
            "Instructions for updating:\n",
            "Please use Model.fit, which supports generators.\n"
          ],
          "name": "stdout"
        },
        {
          "output_type": "stream",
          "text": [
            "/usr/local/lib/python3.6/dist-packages/keras_preprocessing/image/image_data_generator.py:720: UserWarning: This ImageDataGenerator specifies `featurewise_center`, but it hasn't been fit on any training data. Fit it first by calling `.fit(numpy_data)`.\n",
            "  warnings.warn('This ImageDataGenerator specifies '\n",
            "/usr/local/lib/python3.6/dist-packages/keras_preprocessing/image/image_data_generator.py:739: UserWarning: This ImageDataGenerator specifies `zca_whitening`, but it hasn't been fit on any training data. Fit it first by calling `.fit(numpy_data)`.\n",
            "  warnings.warn('This ImageDataGenerator specifies '\n"
          ],
          "name": "stderr"
        },
        {
          "output_type": "stream",
          "text": [
            "Epoch 1/80\n",
            "46/46 [==============================] - 40s 880ms/step - loss: 1.4877 - acc: 0.3240 - val_loss: 1.2109 - val_acc: 0.4574\n",
            "Epoch 2/80\n",
            "46/46 [==============================] - 39s 837ms/step - loss: 1.3085 - acc: 0.4084 - val_loss: 1.1385 - val_acc: 0.4545\n",
            "Epoch 3/80\n",
            "46/46 [==============================] - 38s 821ms/step - loss: 1.2322 - acc: 0.4708 - val_loss: 1.0408 - val_acc: 0.5597\n",
            "Epoch 4/80\n",
            "46/46 [==============================] - 38s 816ms/step - loss: 1.0722 - acc: 0.5257 - val_loss: 0.9147 - val_acc: 0.5795\n",
            "Epoch 5/80\n",
            "46/46 [==============================] - 37s 815ms/step - loss: 0.9521 - acc: 0.5841 - val_loss: 0.7821 - val_acc: 0.6420\n",
            "Epoch 6/80\n",
            "46/46 [==============================] - 37s 809ms/step - loss: 0.8261 - acc: 0.6280 - val_loss: 1.1526 - val_acc: 0.4119\n",
            "Epoch 7/80\n",
            "46/46 [==============================] - 37s 809ms/step - loss: 0.7868 - acc: 0.6431 - val_loss: 0.8255 - val_acc: 0.6193\n",
            "Epoch 8/80\n",
            "46/46 [==============================] - 37s 813ms/step - loss: 0.7191 - acc: 0.6857 - val_loss: 0.6052 - val_acc: 0.7528\n",
            "Epoch 9/80\n",
            "46/46 [==============================] - 37s 808ms/step - loss: 0.6430 - acc: 0.7076 - val_loss: 0.6636 - val_acc: 0.7472\n",
            "Epoch 10/80\n",
            "46/46 [==============================] - 38s 818ms/step - loss: 0.6268 - acc: 0.7296 - val_loss: 0.6581 - val_acc: 0.7188\n",
            "Epoch 11/80\n",
            "46/46 [==============================] - 37s 811ms/step - loss: 0.5611 - acc: 0.7536 - val_loss: 0.5114 - val_acc: 0.7727\n",
            "Epoch 12/80\n",
            "46/46 [==============================] - 37s 809ms/step - loss: 0.5421 - acc: 0.7687 - val_loss: 0.5324 - val_acc: 0.7670\n",
            "Epoch 13/80\n",
            "46/46 [==============================] - 37s 805ms/step - loss: 0.5050 - acc: 0.7811 - val_loss: 0.5416 - val_acc: 0.7670\n",
            "Epoch 14/80\n",
            "46/46 [==============================] - 37s 805ms/step - loss: 0.4906 - acc: 0.7817 - val_loss: 0.5957 - val_acc: 0.7727\n",
            "Epoch 15/80\n",
            "46/46 [==============================] - 37s 809ms/step - loss: 0.4912 - acc: 0.8051 - val_loss: 0.4707 - val_acc: 0.8097\n",
            "Epoch 16/80\n",
            "46/46 [==============================] - 37s 811ms/step - loss: 0.4722 - acc: 0.7948 - val_loss: 0.4805 - val_acc: 0.7727\n",
            "Epoch 17/80\n",
            "46/46 [==============================] - 37s 810ms/step - loss: 0.4410 - acc: 0.8167 - val_loss: 0.4552 - val_acc: 0.8182\n",
            "Epoch 18/80\n",
            "46/46 [==============================] - 38s 818ms/step - loss: 0.4749 - acc: 0.8099 - val_loss: 0.4596 - val_acc: 0.7955\n",
            "Epoch 19/80\n",
            "46/46 [==============================] - 37s 810ms/step - loss: 0.4643 - acc: 0.8092 - val_loss: 0.5515 - val_acc: 0.8040\n",
            "Epoch 20/80\n",
            "46/46 [==============================] - 37s 811ms/step - loss: 0.4174 - acc: 0.8264 - val_loss: 0.4474 - val_acc: 0.8125\n",
            "Epoch 21/80\n",
            "46/46 [==============================] - 37s 811ms/step - loss: 0.4043 - acc: 0.8380 - val_loss: 0.4395 - val_acc: 0.7898\n",
            "Epoch 22/80\n",
            "46/46 [==============================] - 37s 815ms/step - loss: 0.4060 - acc: 0.8250 - val_loss: 0.3971 - val_acc: 0.8494\n",
            "Epoch 23/80\n",
            "46/46 [==============================] - 37s 811ms/step - loss: 0.3845 - acc: 0.8504 - val_loss: 0.4581 - val_acc: 0.8097\n",
            "Epoch 24/80\n",
            "46/46 [==============================] - 37s 813ms/step - loss: 0.3715 - acc: 0.8518 - val_loss: 0.4711 - val_acc: 0.8068\n",
            "Epoch 25/80\n",
            "46/46 [==============================] - 37s 805ms/step - loss: 0.3702 - acc: 0.8552 - val_loss: 0.4505 - val_acc: 0.8239\n",
            "Epoch 26/80\n",
            "46/46 [==============================] - 38s 819ms/step - loss: 0.3491 - acc: 0.8504 - val_loss: 0.4477 - val_acc: 0.8210\n",
            "Epoch 27/80\n",
            "46/46 [==============================] - 38s 815ms/step - loss: 0.3224 - acc: 0.8675 - val_loss: 0.5984 - val_acc: 0.7841\n",
            "Epoch 28/80\n",
            "46/46 [==============================] - 37s 813ms/step - loss: 0.3548 - acc: 0.8593 - val_loss: 0.4356 - val_acc: 0.8239\n",
            "Epoch 29/80\n",
            "46/46 [==============================] - 37s 810ms/step - loss: 0.3539 - acc: 0.8593 - val_loss: 0.3847 - val_acc: 0.8523\n",
            "Epoch 30/80\n",
            "46/46 [==============================] - 37s 811ms/step - loss: 0.3255 - acc: 0.8696 - val_loss: 0.6149 - val_acc: 0.7614\n",
            "Epoch 31/80\n",
            "46/46 [==============================] - 37s 808ms/step - loss: 0.3076 - acc: 0.8710 - val_loss: 0.4322 - val_acc: 0.8551\n",
            "Epoch 32/80\n",
            "46/46 [==============================] - 37s 810ms/step - loss: 0.3227 - acc: 0.8689 - val_loss: 0.4294 - val_acc: 0.8466\n",
            "Epoch 33/80\n",
            "46/46 [==============================] - 37s 809ms/step - loss: 0.3190 - acc: 0.8785 - val_loss: 0.3877 - val_acc: 0.8409\n",
            "Epoch 34/80\n",
            "46/46 [==============================] - 38s 819ms/step - loss: 0.2842 - acc: 0.8943 - val_loss: 0.6080 - val_acc: 0.8239\n",
            "Epoch 35/80\n",
            "46/46 [==============================] - 37s 810ms/step - loss: 0.3154 - acc: 0.8737 - val_loss: 0.4144 - val_acc: 0.8494\n",
            "Epoch 36/80\n",
            "46/46 [==============================] - 37s 807ms/step - loss: 0.2902 - acc: 0.8868 - val_loss: 0.5347 - val_acc: 0.8153\n",
            "Epoch 37/80\n",
            "46/46 [==============================] - 37s 809ms/step - loss: 0.2930 - acc: 0.8813 - val_loss: 0.4500 - val_acc: 0.8352\n",
            "Epoch 38/80\n",
            "46/46 [==============================] - 37s 807ms/step - loss: 0.2840 - acc: 0.8909 - val_loss: 0.5015 - val_acc: 0.8267\n",
            "Epoch 39/80\n",
            "46/46 [==============================] - 37s 803ms/step - loss: 0.2817 - acc: 0.8861 - val_loss: 0.4585 - val_acc: 0.8608\n",
            "Epoch 40/80\n",
            "46/46 [==============================] - 37s 808ms/step - loss: 0.3024 - acc: 0.8770 - val_loss: 0.3915 - val_acc: 0.8608\n",
            "Epoch 41/80\n",
            "46/46 [==============================] - 37s 812ms/step - loss: 0.3566 - acc: 0.8545 - val_loss: 0.4088 - val_acc: 0.8523\n",
            "Epoch 42/80\n",
            "46/46 [==============================] - 38s 816ms/step - loss: 0.2673 - acc: 0.8957 - val_loss: 0.4175 - val_acc: 0.8409\n",
            "Epoch 43/80\n",
            "46/46 [==============================] - 37s 812ms/step - loss: 0.2638 - acc: 0.8984 - val_loss: 0.4475 - val_acc: 0.8438\n",
            "Epoch 44/80\n",
            "46/46 [==============================] - 37s 814ms/step - loss: 0.2735 - acc: 0.8909 - val_loss: 0.4758 - val_acc: 0.8352\n",
            "Epoch 45/80\n",
            "46/46 [==============================] - 37s 812ms/step - loss: 0.2572 - acc: 0.8957 - val_loss: 0.3982 - val_acc: 0.8608\n",
            "Epoch 46/80\n",
            "46/46 [==============================] - 37s 806ms/step - loss: 0.2519 - acc: 0.9039 - val_loss: 0.5182 - val_acc: 0.8636\n",
            "Epoch 47/80\n",
            "46/46 [==============================] - 37s 811ms/step - loss: 0.2571 - acc: 0.9039 - val_loss: 0.4623 - val_acc: 0.8466\n",
            "Epoch 48/80\n",
            "46/46 [==============================] - 37s 810ms/step - loss: 0.2463 - acc: 0.8998 - val_loss: 0.6822 - val_acc: 0.7443\n",
            "Epoch 49/80\n",
            "46/46 [==============================] - 37s 814ms/step - loss: 0.2291 - acc: 0.9108 - val_loss: 0.3890 - val_acc: 0.8636\n",
            "Epoch 50/80\n",
            "46/46 [==============================] - 38s 816ms/step - loss: 0.2321 - acc: 0.9135 - val_loss: 0.4173 - val_acc: 0.8693\n",
            "Epoch 51/80\n",
            "46/46 [==============================] - 37s 813ms/step - loss: 0.2222 - acc: 0.9128 - val_loss: 0.4183 - val_acc: 0.8551\n",
            "Epoch 52/80\n",
            "46/46 [==============================] - 37s 805ms/step - loss: 0.2389 - acc: 0.9060 - val_loss: 0.3820 - val_acc: 0.8636\n",
            "Epoch 53/80\n",
            "46/46 [==============================] - 37s 811ms/step - loss: 0.2222 - acc: 0.9087 - val_loss: 0.4848 - val_acc: 0.8438\n",
            "Epoch 54/80\n",
            "46/46 [==============================] - 37s 812ms/step - loss: 0.2153 - acc: 0.9087 - val_loss: 0.4014 - val_acc: 0.8551\n",
            "Epoch 55/80\n",
            "46/46 [==============================] - 37s 813ms/step - loss: 0.2370 - acc: 0.9012 - val_loss: 0.4872 - val_acc: 0.8409\n",
            "Epoch 56/80\n",
            "46/46 [==============================] - 37s 805ms/step - loss: 0.2226 - acc: 0.9094 - val_loss: 0.4346 - val_acc: 0.8608\n",
            "Epoch 57/80\n",
            "46/46 [==============================] - 37s 810ms/step - loss: 0.1942 - acc: 0.9252 - val_loss: 0.5253 - val_acc: 0.8352\n",
            "Epoch 58/80\n",
            "46/46 [==============================] - 36s 792ms/step - loss: 0.2234 - acc: 0.9142 - val_loss: 0.4115 - val_acc: 0.8580\n",
            "Epoch 59/80\n",
            "46/46 [==============================] - 37s 805ms/step - loss: 0.1965 - acc: 0.9279 - val_loss: 0.4827 - val_acc: 0.8438\n",
            "Epoch 60/80\n",
            "46/46 [==============================] - 36s 793ms/step - loss: 0.2183 - acc: 0.9176 - val_loss: 0.4061 - val_acc: 0.8693\n",
            "Epoch 61/80\n",
            "46/46 [==============================] - 37s 800ms/step - loss: 0.2162 - acc: 0.9128 - val_loss: 0.4326 - val_acc: 0.8551\n",
            "Epoch 62/80\n",
            "46/46 [==============================] - 37s 802ms/step - loss: 0.2078 - acc: 0.9197 - val_loss: 0.5165 - val_acc: 0.8494\n",
            "Epoch 63/80\n",
            "46/46 [==============================] - 37s 796ms/step - loss: 0.2563 - acc: 0.8977 - val_loss: 0.4024 - val_acc: 0.8551\n",
            "Epoch 64/80\n",
            "46/46 [==============================] - 37s 802ms/step - loss: 0.2148 - acc: 0.9135 - val_loss: 0.4359 - val_acc: 0.8636\n",
            "Epoch 65/80\n",
            "46/46 [==============================] - 37s 801ms/step - loss: 0.2012 - acc: 0.9190 - val_loss: 0.4415 - val_acc: 0.8608\n",
            "Epoch 66/80\n",
            "46/46 [==============================] - 37s 795ms/step - loss: 0.1962 - acc: 0.9259 - val_loss: 0.4805 - val_acc: 0.8523\n",
            "Epoch 67/80\n",
            "46/46 [==============================] - 37s 808ms/step - loss: 0.1985 - acc: 0.9163 - val_loss: 0.4424 - val_acc: 0.8523\n",
            "Epoch 68/80\n",
            "46/46 [==============================] - 37s 803ms/step - loss: 0.1791 - acc: 0.9293 - val_loss: 0.3778 - val_acc: 0.8892\n",
            "Epoch 69/80\n",
            "46/46 [==============================] - 37s 806ms/step - loss: 0.2050 - acc: 0.9142 - val_loss: 0.5365 - val_acc: 0.8068\n",
            "Epoch 70/80\n",
            "46/46 [==============================] - 37s 804ms/step - loss: 0.2064 - acc: 0.9142 - val_loss: 0.4818 - val_acc: 0.8409\n",
            "Epoch 71/80\n",
            "46/46 [==============================] - 37s 796ms/step - loss: 0.1737 - acc: 0.9389 - val_loss: 0.4135 - val_acc: 0.8835\n",
            "Epoch 72/80\n",
            "46/46 [==============================] - 37s 811ms/step - loss: 0.2067 - acc: 0.9190 - val_loss: 0.3799 - val_acc: 0.8750\n",
            "Epoch 73/80\n",
            "46/46 [==============================] - 37s 808ms/step - loss: 0.1844 - acc: 0.9245 - val_loss: 0.3995 - val_acc: 0.8778\n",
            "Epoch 74/80\n",
            "46/46 [==============================] - 37s 804ms/step - loss: 0.1730 - acc: 0.9348 - val_loss: 0.4381 - val_acc: 0.8409\n",
            "Epoch 75/80\n",
            "46/46 [==============================] - 37s 812ms/step - loss: 0.1555 - acc: 0.9451 - val_loss: 0.3664 - val_acc: 0.8864\n",
            "Epoch 76/80\n",
            "46/46 [==============================] - 37s 797ms/step - loss: 0.1757 - acc: 0.9272 - val_loss: 0.4477 - val_acc: 0.8722\n",
            "Epoch 77/80\n",
            "46/46 [==============================] - 37s 815ms/step - loss: 0.1745 - acc: 0.9266 - val_loss: 0.3869 - val_acc: 0.8892\n",
            "Epoch 78/80\n",
            "46/46 [==============================] - 37s 803ms/step - loss: 0.1869 - acc: 0.9348 - val_loss: 0.4187 - val_acc: 0.8551\n",
            "Epoch 79/80\n",
            "46/46 [==============================] - 38s 816ms/step - loss: 0.1783 - acc: 0.9341 - val_loss: 0.4445 - val_acc: 0.8636\n",
            "Epoch 80/80\n",
            "46/46 [==============================] - 38s 817ms/step - loss: 0.1699 - acc: 0.9417 - val_loss: 0.3975 - val_acc: 0.8835\n"
          ],
          "name": "stdout"
        }
      ]
    },
    {
      "cell_type": "markdown",
      "metadata": {
        "id": "89ZEQXk50A9-",
        "colab_type": "text"
      },
      "source": [
        "Evaluation"
      ]
    },
    {
      "cell_type": "code",
      "metadata": {
        "id": "tNIFRzOvp1yA",
        "colab_type": "code",
        "colab": {
          "base_uri": "https://localhost:8080/",
          "height": 338
        },
        "outputId": "25d1e71f-2bc3-4375-b195-2804f34aa0cb"
      },
      "source": [
        "#Plot the accuracy and loss graphs\n",
        "\n",
        "import matplotlib.pyplot as plt\n",
        "\n",
        "\n",
        "def plot_acc_loss(result, epochs):\n",
        "    acc = result.history['acc']\n",
        "    loss = result.history['loss']\n",
        "    val_acc = result.history['val_acc']\n",
        "    val_loss = result.history['val_loss']\n",
        "    plt.figure(figsize=(15, 5))\n",
        "    plt.subplot(121)\n",
        "    plt.plot(range(1,epochs), acc[1:], label='Train_acc')\n",
        "    plt.plot(range(1,epochs), val_acc[1:], label='Val_acc')\n",
        "    plt.title('Accuracy over ' + str(epochs) + ' Epochs', size=15)\n",
        "    plt.legend()\n",
        "    plt.grid(True)\n",
        "    plt.subplot(122)\n",
        "    plt.plot(range(1,epochs), loss[1:], label='Train_loss')\n",
        "    plt.plot(range(1,epochs), val_loss[1:], label='Val_loss')\n",
        "    plt.title('Loss over ' + str(epochs) + ' Epochs', size=15)\n",
        "    plt.legend()\n",
        "    plt.grid(True)\n",
        "    plt.show()\n",
        "    \n",
        "plot_acc_loss(result, 80)"
      ],
      "execution_count": 12,
      "outputs": [
        {
          "output_type": "display_data",
          "data": {
            "image/png": "[encoded data removed]",
            "text/plain": [
              "<Figure size 1080x360 with 2 Axes>"
            ]
          },
          "metadata": {
            "tags": [],
            "needs_background": "light"
          }
        }
      ]
    },
    {
      "cell_type": "code",
      "metadata": {
        "id": "g1W_MvpGJ39q",
        "colab_type": "code",
        "colab": {}
      },
      "source": [
        "#Save the trained model and copy to drive\n",
        "\n",
        "model.save('4-class-Covid19-Mod-Xception.h5')\n",
        "#!cp /content/\"4-class-Covid19-Mod-Xception.h5\" /content/drive/\"My Drive\"/\"Colab Notebooks\"\n"
      ],
      "execution_count": 13,
      "outputs": []
    },
    {
      "cell_type": "markdown",
      "metadata": {
        "id": "5X6TGa0N-5R0",
        "colab_type": "text"
      },
      "source": [
        "**Evaluate using evaluate Generator**"
      ]
    },
    {
      "cell_type": "code",
      "metadata": {
        "id": "B1Qqa6YG-6kB",
        "colab_type": "code",
        "colab": {
          "base_uri": "https://localhost:8080/",
          "height": 34
        },
        "outputId": "5d6e3003-a85f-4e23-f47c-970400fd4113"
      },
      "source": [
        "# Create evaluate data generator from test set\n",
        "#Dont forget shuffle false\n",
        "\n",
        "test_datagen = ImageDataGenerator(rescale=1. / 255)\n",
        "test_dir =  '/content/drive/My Drive/DATASET/covid-19/four_classes/test'\n",
        "eval_generator = test_datagen.flow_from_directory(test_dir,target_size=IMAGE_SIZE,batch_size=1, \n",
        "                                                  shuffle=False, seed=42, class_mode=\"categorical\")\n",
        "eval_generator.reset()    \n"
      ],
      "execution_count": 14,
      "outputs": [
        {
          "output_type": "stream",
          "text": [
            "Found 280 images belonging to 4 classes.\n"
          ],
          "name": "stdout"
        }
      ]
    },
    {
      "cell_type": "code",
      "metadata": {
        "id": "OruQrAjTAbly",
        "colab_type": "code",
        "colab": {
          "base_uri": "https://localhost:8080/",
          "height": 138
        },
        "outputId": "239f08e2-ef3a-4b89-ff8f-aa26ec7f6518"
      },
      "source": [
        "#Evalute the trained model on evaluate generator\n",
        "eval_generator.reset()  \n",
        "x = model.evaluate_generator(eval_generator,\n",
        "                           steps = np.ceil(len(eval_generator)), \n",
        "                           use_multiprocessing = False,\n",
        "                           verbose = 1,\n",
        "                           workers=1,\n",
        "                           )\n",
        "\n",
        "\n",
        "print('Test loss:' , x[0])\n",
        "print('Test accuracy:',x[1])\n",
        "\n",
        "#Poor test accuracy due to the small dataset size"
      ],
      "execution_count": 15,
      "outputs": [
        {
          "output_type": "stream",
          "text": [
            "WARNING:tensorflow:From <ipython-input-15-71e59a5f24d7>:7: Model.evaluate_generator (from tensorflow.python.keras.engine.training) is deprecated and will be removed in a future version.\n",
            "Instructions for updating:\n",
            "Please use Model.evaluate, which supports generators.\n",
            "280/280 [==============================] - 4s 15ms/step - loss: 0.4365 - acc: 0.9071\n",
            "Test loss: 0.43648967146873474\n",
            "Test accuracy: 0.9071428775787354\n"
          ],
          "name": "stdout"
        }
      ]
    },
    {
      "cell_type": "markdown",
      "metadata": {
        "id": "mqqVSc_tcvGS",
        "colab_type": "text"
      },
      "source": [
        "**Create DataGen on single folder/class and predict !**"
      ]
    },
    {
      "cell_type": "code",
      "metadata": {
        "id": "xarJHwEpcsZQ",
        "colab_type": "code",
        "colab": {
          "base_uri": "https://localhost:8080/",
          "height": 1000
        },
        "outputId": "380f2d1d-db9c-44c6-a6bc-ba672f06a79f"
      },
      "source": [
        "IMAGE_SIZE    = (128, 128)\n",
        "test_datagen = ImageDataGenerator(rescale=1. / 255)\n",
        "test_dir =  '/content/drive/My Drive/DATASET/covid-19/four_classes/test'\n",
        "pred_generator = test_datagen.flow_from_directory(\n",
        "        test_dir,target_size=IMAGE_SIZE,\n",
        "        batch_size=1,\n",
        "        shuffle=False,\n",
        "        \n",
        "        seed=42,\n",
        "        \n",
        "        class_mode=\"categorical\")\n",
        "pred_generator.reset()   \n",
        "\n",
        "count=[0,0,0,0]\n",
        "\n",
        "files=pred_generator.filenames\n",
        "\n",
        "for i in range(len(files)):\n",
        "  x,y = pred_generator.next()\n",
        "  img = x\n",
        "  predict=model.predict(img)\n",
        "  \n",
        "  p=np.argmax(predict, axis=-1)\n",
        "  print(str(p[0])+\" \"+files[pred_generator.batch_index-1])\n",
        "  #print(predict)\n",
        "  #p=model.predict_classes(img)\n",
        "  count[p[0]]+=1\n",
        "  \n",
        "#print(str(p[0])+\" \"+files[i]) \n",
        "print(count)\n",
        "  \n"
      ],
      "execution_count": 17,
      "outputs": [
        {
          "output_type": "stream",
          "text": [
            "Found 280 images belonging to 4 classes.\n",
            "0 covid/RX-torace-a-letto-del-paziente-in-unica-proiezione-AP-1-1.jpeg\n",
            "0 covid/S1-new.png\n",
            "0 covid/SARS-10.1148rg.242035193-g04mr34g0-Fig8a-day0.jpeg\n",
            "0 covid/SARS-10.1148rg.242035193-g04mr34g0-Fig8b-day5.jpeg\n",
            "0 covid/SARS-10.1148rg.242035193-g04mr34g0-Fig8c-day10.jpeg\n",
            "1 covid/SARS-10.1148rg.242035193-g04mr34g04a-Fig4a-day7.jpeg\n",
            "0 covid/SARS-10.1148rg.242035193-g04mr34g04b-Fig4b-day12.jpeg\n",
            "0 covid/SARS-10.1148rg.242035193-g04mr34g05x-Fig5-day9.jpeg\n",
            "0 covid/SARS-10.1148rg.242035193-g04mr34g07a-Fig7a-day5.jpeg\n",
            "0 covid/SARS-10.1148rg.242035193-g04mr34g07b-Fig7b-day12.jpeg\n",
            "0 covid/SARS-10.1148rg.242035193-g04mr34g09a-Fig9a-day17.jpeg\n",
            "0 covid/SARS-10.1148rg.242035193-g04mr34g09b-Fig9b-day19.jpeg\n",
            "0 covid/SARS-10.1148rg.242035193-g04mr34g09c-Fig9c-day27.jpeg\n",
            "0 covid/X-ray_of_cyst_in_pneumocystis_pneumonia_1.jpg\n",
            "0 covid/radiol.2020201160.fig3b.jpeg\n",
            "0 covid/radiol.2020201160.fig3c.jpeg\n",
            "0 covid/radiol.2020201160.fig3d.jpeg\n",
            "0 covid/radiol.2020201160.fig6b.jpeg\n",
            "0 covid/radiopaedia-2019-novel-coronavirus-infected-pneumonia.jpg\n",
            "0 covid/right-upper-lobe-pneumonia-9-L.jpg\n",
            "0 covid/right-upper-lobe-pneumonia-9-PA.jpg\n",
            "0 covid/ryct.2020200028.fig1a.jpeg\n",
            "0 covid/ryct.2020200034.fig2.jpeg\n",
            "0 covid/ryct.2020200034.fig5-day0.jpeg\n",
            "0 covid/ryct.2020200034.fig5-day4.jpeg\n",
            "0 covid/ryct.2020200034.fig5-day7.jpeg\n",
            "0 covid/streptococcus-pneumoniae-pneumonia-temporal-evolution-1-day0.jpg\n",
            "0 covid/streptococcus-pneumoniae-pneumonia-temporal-evolution-1-day1.jpg\n",
            "0 covid/streptococcus-pneumoniae-pneumonia-temporal-evolution-1-day2.jpg\n",
            "0 covid/streptococcus-pneumoniae-pneumonia-temporal-evolution-1-day3.jpg\n",
            "0 covid/wong-0000.jpg\n",
            "0 covid/wong-0002.jpg\n",
            "0 covid/wong-0003.jpg\n",
            "0 covid/wong-0004.jpg\n",
            "0 covid/wong-0005.jpg\n",
            "1 normal/IM-0497-0001-0001.jpeg\n",
            "1 normal/IM-0497-0001-0002.jpeg\n",
            "1 normal/IM-0499-0001-0001.jpeg\n",
            "1 normal/IM-0499-0001-0002.jpeg\n",
            "1 normal/IM-0499-0001.jpeg\n",
            "1 normal/IM-0500-0001.jpeg\n",
            "1 normal/IM-0501-0001-0001.jpeg\n",
            "1 normal/IM-0501-0001-0002.jpeg\n",
            "1 normal/IM-0501-0001.jpeg\n",
            "1 normal/IM-0503-0001.jpeg\n",
            "1 normal/IM-0504-0001.jpeg\n",
            "1 normal/IM-0505-0001-0001.jpeg\n",
            "1 normal/IM-0505-0001-0002.jpeg\n",
            "1 normal/IM-0505-0001.jpeg\n",
            "1 normal/IM-0506-0001.jpeg\n",
            "1 normal/IM-0507-0001.jpeg\n",
            "1 normal/IM-0508-0001.jpeg\n",
            "1 normal/IM-0509-0001-0001.jpeg\n",
            "1 normal/IM-0509-0001-0002.jpeg\n",
            "1 normal/IM-0509-0001.jpeg\n",
            "1 normal/IM-0510-0001.jpeg\n",
            "1 normal/IM-0511-0001-0001.jpeg\n",
            "1 normal/IM-0511-0001-0002.jpeg\n",
            "1 normal/IM-0511-0001.jpeg\n",
            "1 normal/IM-0512-0001.jpeg\n",
            "1 normal/IM-0513-0001.jpeg\n",
            "1 normal/IM-0514-0001.jpeg\n",
            "1 normal/IM-0515-0001.jpeg\n",
            "1 normal/IM-0516-0001.jpeg\n",
            "1 normal/IM-0517-0001-0001.jpeg\n",
            "1 normal/IM-0517-0001.jpeg\n",
            "1 normal/IM-0519-0001-0001.jpeg\n",
            "1 normal/IM-0519-0001-0002.jpeg\n",
            "1 normal/IM-0519-0001.jpeg\n",
            "1 normal/IM-0520-0001.jpeg\n",
            "1 normal/IM-0521-0001.jpeg\n",
            "1 normal/IM-0522-0001.jpeg\n",
            "1 normal/IM-0523-0001-0001.jpeg\n",
            "1 normal/IM-0523-0001-0002.jpeg\n",
            "1 normal/IM-0523-0001-0003.jpeg\n",
            "1 normal/IM-0523-0001.jpeg\n",
            "1 normal/IM-0588-0001.jpeg\n",
            "1 normal/IM-0590-0001.jpeg\n",
            "1 normal/IM-0591-0001.jpeg\n",
            "1 normal/IM-0592-0001.jpeg\n",
            "1 normal/IM-0593-0001.jpeg\n",
            "1 normal/IM-0595-0001.jpeg\n",
            "1 normal/IM-0596-0001.jpeg\n",
            "1 normal/IM-0598-0001.jpeg\n",
            "1 normal/IM-0599-0001.jpeg\n",
            "1 normal/IM-0600-0001.jpeg\n",
            "1 normal/IM-0601-0001.jpeg\n",
            "1 normal/IM-0602-0001.jpeg\n",
            "1 normal/IM-0604-0001.jpeg\n",
            "1 normal/IM-0605-0001.jpeg\n",
            "1 normal/IM-0606-0001.jpeg\n",
            "1 normal/IM-0607-0001.jpeg\n",
            "1 normal/IM-0608-0001-0001.jpeg\n",
            "1 normal/IM-0608-0001-0002.jpeg\n",
            "1 normal/IM-0608-0001.jpeg\n",
            "1 normal/IM-0609-0001.jpeg\n",
            "1 normal/IM-0612-0001-0001.jpeg\n",
            "1 normal/IM-0612-0001-0002.jpeg\n",
            "1 normal/IM-0612-0001.jpeg\n",
            "1 normal/IM-0613-0001.jpeg\n",
            "1 normal/NORMAL2-IM-0341-0001.jpeg\n",
            "1 normal/NORMAL2-IM-0343-0001.jpeg\n",
            "1 normal/NORMAL2-IM-0345-0001.jpeg\n",
            "1 normal/NORMAL2-IM-0346-0001.jpeg\n",
            "1 normal/NORMAL2-IM-0347-0001.jpeg\n",
            "1 normal/NORMAL2-IM-0348-0001.jpeg\n",
            "1 normal/NORMAL2-IM-0349-0001.jpeg\n",
            "1 normal/NORMAL2-IM-0350-0001.jpeg\n",
            "1 normal/NORMAL2-IM-0351-0001.jpeg\n",
            "1 normal/NORMAL2-IM-0352-0001.jpeg\n",
            "1 normal/NORMAL2-IM-0353-0001.jpeg\n",
            "1 normal/NORMAL2-IM-0354-0001.jpeg\n",
            "1 normal/NORMAL2-IM-0357-0001.jpeg\n",
            "1 normal/NORMAL2-IM-0359-0001.jpeg\n",
            "1 normal/NORMAL2-IM-0360-0001.jpeg\n",
            "1 normal/NORMAL2-IM-0361-0001.jpeg\n",
            "1 normal/NORMAL2-IM-0362-0001.jpeg\n",
            "1 normal/NORMAL2-IM-0364-0001.jpeg\n",
            "1 normal/NORMAL2-IM-0366-0001.jpeg\n",
            "1 normal/NORMAL2-IM-0368-0001.jpeg\n",
            "1 normal/NORMAL2-IM-0369-0001.jpeg\n",
            "1 normal/NORMAL2-IM-0370-0001.jpeg\n",
            "1 normal/NORMAL2-IM-0372-0001.jpeg\n",
            "2 normal/NORMAL2-IM-0373-0001.jpeg\n",
            "1 normal/NORMAL2-IM-0374-0001-0001.jpeg\n",
            "1 normal/NORMAL2-IM-0374-0001-0002.jpeg\n",
            "1 normal/NORMAL2-IM-0374-0001.jpeg\n",
            "1 normal/NORMAL2-IM-0376-0001.jpeg\n",
            "1 normal/NORMAL2-IM-0378-0001.jpeg\n",
            "1 normal/NORMAL2-IM-0380-0001.jpeg\n",
            "1 normal/NORMAL2-IM-0381-0001.jpeg\n",
            "3 normal/NORMAL2-IM-1437-0001.jpeg\n",
            "3 normal/NORMAL2-IM-1438-0001.jpeg\n",
            "1 normal/NORMAL2-IM-1440-0001.jpeg\n",
            "1 normal/NORMAL2-IM-1442-0001.jpeg\n",
            "2 pneumonia_bacterial/person141_bacteria_677.jpeg\n",
            "2 pneumonia_bacterial/person141_bacteria_678.jpeg\n",
            "2 pneumonia_bacterial/person141_bacteria_681.jpeg\n",
            "2 pneumonia_bacterial/person142_bacteria_682.jpeg\n",
            "2 pneumonia_bacterial/person142_bacteria_683.jpeg\n",
            "2 pneumonia_bacterial/person142_bacteria_684.jpeg\n",
            "2 pneumonia_bacterial/person143_bacteria_687.jpeg\n",
            "2 pneumonia_bacterial/person143_bacteria_688.jpeg\n",
            "2 pneumonia_bacterial/person143_bacteria_689.jpeg\n",
            "2 pneumonia_bacterial/person144_bacteria_690.jpeg\n",
            "2 pneumonia_bacterial/person145_bacteria_696.jpeg\n",
            "2 pneumonia_bacterial/person146_bacteria_700.jpeg\n",
            "2 pneumonia_bacterial/person146_bacteria_703.jpeg\n",
            "2 pneumonia_bacterial/person146_bacteria_704.jpeg\n",
            "2 pneumonia_bacterial/person147_bacteria_705.jpeg\n",
            "2 pneumonia_bacterial/person147_bacteria_706.jpeg\n",
            "2 pneumonia_bacterial/person171_bacteria_826.jpeg\n",
            "2 pneumonia_bacterial/person172_bacteria_827.jpeg\n",
            "3 pneumonia_bacterial/person172_bacteria_828.jpeg\n",
            "2 pneumonia_bacterial/person173_bacteria_829.jpeg\n",
            "2 pneumonia_bacterial/person173_bacteria_830.jpeg\n",
            "2 pneumonia_bacterial/person173_bacteria_831.jpeg\n",
            "2 pneumonia_bacterial/person174_bacteria_832.jpeg\n",
            "2 pneumonia_bacterial/person175_bacteria_833.jpeg\n",
            "2 pneumonia_bacterial/person175_bacteria_834.jpeg\n",
            "2 pneumonia_bacterial/person175_bacteria_835.jpeg\n",
            "2 pneumonia_bacterial/person75_bacteria_368.jpeg\n",
            "2 pneumonia_bacterial/person75_bacteria_369.jpeg\n",
            "3 pneumonia_bacterial/person76_bacteria_370.jpeg\n",
            "2 pneumonia_bacterial/person76_bacteria_371.jpeg\n",
            "1 pneumonia_bacterial/person76_bacteria_372.jpeg\n",
            "2 pneumonia_bacterial/person77_bacteria_374.jpeg\n",
            "2 pneumonia_bacterial/person77_bacteria_375.jpeg\n",
            "2 pneumonia_bacterial/person77_bacteria_376.jpeg\n",
            "2 pneumonia_bacterial/person77_bacteria_377.jpeg\n",
            "2 pneumonia_bacterial/person80_bacteria_389.jpeg\n",
            "2 pneumonia_bacterial/person80_bacteria_390.jpeg\n",
            "2 pneumonia_bacterial/person80_bacteria_391.jpeg\n",
            "2 pneumonia_bacterial/person80_bacteria_392.jpeg\n",
            "2 pneumonia_bacterial/person80_bacteria_393.jpeg\n",
            "2 pneumonia_bacterial/person81_bacteria_395.jpeg\n",
            "2 pneumonia_bacterial/person81_bacteria_396.jpeg\n",
            "2 pneumonia_bacterial/person81_bacteria_397.jpeg\n",
            "2 pneumonia_bacterial/person81_bacteria_398.jpeg\n",
            "2 pneumonia_bacterial/person82_bacteria_402.jpeg\n",
            "3 pneumonia_bacterial/person82_bacteria_403.jpeg\n",
            "2 pneumonia_bacterial/person82_bacteria_404.jpeg\n",
            "2 pneumonia_bacterial/person82_bacteria_405.jpeg\n",
            "1 pneumonia_bacterial/person83_bacteria_407.jpeg\n",
            "2 pneumonia_bacterial/person83_bacteria_409.jpeg\n",
            "2 pneumonia_bacterial/person83_bacteria_410.jpeg\n",
            "2 pneumonia_bacterial/person83_bacteria_411.jpeg\n",
            "2 pneumonia_bacterial/person83_bacteria_412.jpeg\n",
            "2 pneumonia_bacterial/person83_bacteria_414.jpeg\n",
            "3 pneumonia_bacterial/person85_bacteria_417.jpeg\n",
            "3 pneumonia_bacterial/person85_bacteria_419.jpeg\n",
            "2 pneumonia_bacterial/person85_bacteria_421.jpeg\n",
            "2 pneumonia_bacterial/person85_bacteria_422.jpeg\n",
            "2 pneumonia_bacterial/person85_bacteria_423.jpeg\n",
            "2 pneumonia_bacterial/person85_bacteria_424.jpeg\n",
            "2 pneumonia_bacterial/person86_bacteria_428.jpeg\n",
            "2 pneumonia_bacterial/person86_bacteria_429.jpeg\n",
            "2 pneumonia_bacterial/person87_bacteria_433.jpeg\n",
            "2 pneumonia_bacterial/person87_bacteria_434.jpeg\n",
            "2 pneumonia_bacterial/person88_bacteria_437.jpeg\n",
            "2 pneumonia_bacterial/person88_bacteria_438.jpeg\n",
            "1 pneumonia_bacterial/person88_bacteria_439.jpeg\n",
            "2 pneumonia_bacterial/person89_bacteria_440.jpeg\n",
            "2 pneumonia_bacterial/person90_bacteria_442.jpeg\n",
            "2 pneumonia_bacterial/person90_bacteria_443.jpeg\n",
            "2 pneumonia_bacterial/person91_bacteria_445.jpeg\n",
            "2 pneumonia_bacterial/person91_bacteria_446.jpeg\n",
            "2 pneumonia_bacterial/person91_bacteria_447.jpeg\n",
            "2 pneumonia_bacterial/person91_bacteria_448.jpeg\n",
            "2 pneumonia_bacterial/person91_bacteria_449.jpeg\n",
            "2 pneumonia_viral/person10_virus_35.jpeg\n",
            "3 pneumonia_viral/person11_virus_38.jpeg\n",
            "3 pneumonia_viral/person14_virus_44.jpeg\n",
            "1 pneumonia_viral/person15_virus_46.jpeg\n",
            "3 pneumonia_viral/person1647_virus_2848.jpeg\n",
            "3 pneumonia_viral/person1649_virus_2850.jpeg\n",
            "3 pneumonia_viral/person1650_virus_2852.jpeg\n",
            "3 pneumonia_viral/person1650_virus_2854.jpeg\n",
            "3 pneumonia_viral/person1651_virus_2855.jpeg\n",
            "3 pneumonia_viral/person1653_virus_2858.jpeg\n",
            "3 pneumonia_viral/person1653_virus_2859.jpeg\n",
            "3 pneumonia_viral/person1655_virus_2861.jpeg\n",
            "3 pneumonia_viral/person1656_virus_2862.jpeg\n",
            "3 pneumonia_viral/person1657_virus_2864.jpeg\n",
            "3 pneumonia_viral/person1659_virus_2867.jpeg\n",
            "3 pneumonia_viral/person1660_virus_2869.jpeg\n",
            "3 pneumonia_viral/person1661_virus_2872.jpeg\n",
            "3 pneumonia_viral/person1661_virus_2873.jpeg\n",
            "3 pneumonia_viral/person1662_virus_2875.jpeg\n",
            "3 pneumonia_viral/person1663_virus_2876.jpeg\n",
            "3 pneumonia_viral/person1664_virus_2877.jpeg\n",
            "3 pneumonia_viral/person1665_virus_2878.jpeg\n",
            "3 pneumonia_viral/person1667_virus_2881.jpeg\n",
            "3 pneumonia_viral/person1668_virus_2882.jpeg\n",
            "3 pneumonia_viral/person1669_virus_2884.jpeg\n",
            "3 pneumonia_viral/person1669_virus_2885.jpeg\n",
            "3 pneumonia_viral/person1670_virus_2886.jpeg\n",
            "3 pneumonia_viral/person1671_virus_2887.jpeg\n",
            "3 pneumonia_viral/person1672_virus_2888.jpeg\n",
            "3 pneumonia_viral/person1673_virus_2889.jpeg\n",
            "3 pneumonia_viral/person1674_virus_2890.jpeg\n",
            "3 pneumonia_viral/person1675_virus_2891.jpeg\n",
            "3 pneumonia_viral/person1676_virus_2892.jpeg\n",
            "3 pneumonia_viral/person1678_virus_2895.jpeg\n",
            "3 pneumonia_viral/person1679_virus_2896.jpeg\n",
            "3 pneumonia_viral/person1680_virus_2897.jpeg\n",
            "3 pneumonia_viral/person1682_virus_2899.jpeg\n",
            "2 pneumonia_viral/person1685_virus_2903.jpeg\n",
            "1 pneumonia_viral/person16_virus_47.jpeg\n",
            "2 pneumonia_viral/person17_virus_48.jpeg\n",
            "2 pneumonia_viral/person18_virus_49.jpeg\n",
            "3 pneumonia_viral/person19_virus_50.jpeg\n",
            "2 pneumonia_viral/person1_virus_11.jpeg\n",
            "2 pneumonia_viral/person1_virus_12.jpeg\n",
            "2 pneumonia_viral/person1_virus_13.jpeg\n",
            "2 pneumonia_viral/person1_virus_6.jpeg\n",
            "2 pneumonia_viral/person1_virus_7.jpeg\n",
            "2 pneumonia_viral/person1_virus_8.jpeg\n",
            "2 pneumonia_viral/person1_virus_9.jpeg\n",
            "3 pneumonia_viral/person20_virus_51.jpeg\n",
            "3 pneumonia_viral/person21_virus_52.jpeg\n",
            "3 pneumonia_viral/person21_virus_53.jpeg\n",
            "3 pneumonia_viral/person22_virus_54.jpeg\n",
            "3 pneumonia_viral/person22_virus_55.jpeg\n",
            "3 pneumonia_viral/person23_virus_56.jpeg\n",
            "3 pneumonia_viral/person24_virus_58.jpeg\n",
            "3 pneumonia_viral/person25_virus_59.jpeg\n",
            "3 pneumonia_viral/person26_virus_60.jpeg\n",
            "3 pneumonia_viral/person28_virus_62.jpeg\n",
            "3 pneumonia_viral/person28_virus_63.jpeg\n",
            "3 pneumonia_viral/person29_virus_64.jpeg\n",
            "3 pneumonia_viral/person30_virus_69.jpeg\n",
            "3 pneumonia_viral/person31_virus_70.jpeg\n",
            "3 pneumonia_viral/person32_virus_71.jpeg\n",
            "3 pneumonia_viral/person33_virus_72.jpeg\n",
            "3 pneumonia_viral/person3_virus_15.jpeg\n",
            "3 pneumonia_viral/person3_virus_16.jpeg\n",
            "3 pneumonia_viral/person3_virus_17.jpeg\n",
            "2 pneumonia_viral/person8_virus_27.jpeg\n",
            "3 pneumonia_viral/person8_virus_28.jpeg\n",
            "[34, 103, 80, 63]\n"
          ],
          "name": "stdout"
        }
      ]
    },
    {
      "cell_type": "markdown",
      "metadata": {
        "id": "8OXyHsp_9DVT",
        "colab_type": "text"
      },
      "source": [
        "### **`Predict Results using predict generator and evaluate the accuracy and Confusion matrix `**"
      ]
    },
    {
      "cell_type": "code",
      "metadata": {
        "id": "fHiC3ceg3Fip",
        "colab_type": "code",
        "colab": {
          "base_uri": "https://localhost:8080/",
          "height": 660
        },
        "outputId": "04c09c72-9173-465b-f165-c623d4b0b1ad"
      },
      "source": [
        "from sklearn.metrics import confusion_matrix\n",
        "from sklearn.metrics import plot_confusion_matrix\n",
        "from sklearn.metrics import classification_report\n",
        "\n",
        "\n",
        "\n",
        "filenames = eval_generator.filenames\n",
        "nb_samples = len(filenames)\n",
        "eval_generator.reset()  \n",
        "predict = model.predict_generator(eval_generator,steps = np.ceil(len(eval_generator)))\n",
        "pp=predict\n",
        "predict=np.argmax(predict, axis=-1)\n",
        "classes= eval_generator.classes[eval_generator.index_array]\n",
        "acc=sum(predict==classes)/len(predict)\n",
        "names=[\"covid\",\"normal\",\"pneumonia_bac\",\"pneumonia_vir\"]\n",
        "#print(confusion_matrix(classes,predict))\n",
        "\n",
        "font = {\n",
        "'family': 'Times New Roman',\n",
        "'size': 12\n",
        "}\n",
        "plt.rc('font', **font)\n",
        "cm = confusion_matrix(classes, predict)\n",
        "print(cm)\n",
        "print(classification_report(classes,predict))\n",
        "plt.imshow(cm, cmap=plt.cm.Blues)\n",
        "plt.xlabel('Predicted labels \\nAccuracy: {:0.2f}'.format(acc*100))\n",
        "plt.ylabel(\"True labels\")\n",
        "plt.xticks(classes, [])\n",
        "plt.yticks(classes, [])\n",
        "plt.title('Confusion matrix ')\n",
        "plt.colorbar()\n",
        "plt.show()"
      ],
      "execution_count": 18,
      "outputs": [
        {
          "output_type": "stream",
          "text": [
            "WARNING:tensorflow:From <ipython-input-18-9d55c32f16e7>:10: Model.predict_generator (from tensorflow.python.keras.engine.training) is deprecated and will be removed in a future version.\n",
            "Instructions for updating:\n",
            "Please use Model.predict, which supports generators.\n",
            "[[34  1  0  0]\n",
            " [ 0 97  1  2]\n",
            " [ 0  3 67  5]\n",
            " [ 0  2 12 56]]\n",
            "              precision    recall  f1-score   support\n",
            "\n",
            "           0       1.00      0.97      0.99        35\n",
            "           1       0.94      0.97      0.96       100\n",
            "           2       0.84      0.89      0.86        75\n",
            "           3       0.89      0.80      0.84        70\n",
            "\n",
            "    accuracy                           0.91       280\n",
            "   macro avg       0.92      0.91      0.91       280\n",
            "weighted avg       0.91      0.91      0.91       280\n",
            "\n"
          ],
          "name": "stdout"
        },
        {
          "output_type": "stream",
          "text": [
            "findfont: Font family ['Times New Roman'] not found. Falling back to DejaVu Sans.\n",
            "findfont: Font family ['Times New Roman'] not found. Falling back to DejaVu Sans.\n"
          ],
          "name": "stderr"
        },
        {
          "output_type": "display_data",
          "data": {
            "image/png": "[encoded data removed]",
            "text/plain": [
              "<Figure size 432x288 with 2 Axes>"
            ]
          },
          "metadata": {
            "tags": [],
            "needs_background": "light"
          }
        }
      ]
    }
  ]
}