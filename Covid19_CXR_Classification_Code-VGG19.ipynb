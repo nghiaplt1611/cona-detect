{
  "nbformat": 4,
  "nbformat_minor": 0,
  "metadata": {
    "colab": {
      "name": "Bản sao của Covid19_CXR_Classification_Code.ipynb",
      "provenance": [],
      "collapsed_sections": [],
      "toc_visible": true
    },
    "kernelspec": {
      "name": "python3",
      "display_name": "Python 3"
    },
    "accelerator": "GPU"
  },
  "cells": [
    {
      "cell_type": "markdown",
      "metadata": {
        "id": "dDmE5_NHRagI",
        "colab_type": "text"
      },
      "source": [
        "Mount Google Drive to load models containing X-ray images in personal folder"
      ]
    },
    {
      "cell_type": "code",
      "metadata": {
        "id": "tyAhoZAvfDXR",
        "colab_type": "code",
        "colab": {
          "base_uri": "https://localhost:8080/",
          "height": 126
        },
        "outputId": "59372232-31f1-4bb1-f369-4d9cd3c86aa0"
      },
      "source": [
        "# Get data form drive\n",
        "\n",
        "from google.colab import drive\n",
        "drive.mount('/content/drive')"
      ],
      "execution_count": 3,
      "outputs": [
        {
          "output_type": "stream",
          "text": [
            "Go to this URL in a browser: https://accounts.google.com/o/oauth2/auth?client_id=947318989803-6bn6qk8qdgf4n4g3pfee6491hc0brc4i.apps.googleusercontent.com&redirect_uri=urn%3aietf%3awg%3aoauth%3a2.0%3aoob&scope=email%20https%3a%2f%2fwww.googleapis.com%2fauth%2fdocs.test%20https%3a%2f%2fwww.googleapis.com%2fauth%2fdrive%20https%3a%2f%2fwww.googleapis.com%2fauth%2fdrive.photos.readonly%20https%3a%2f%2fwww.googleapis.com%2fauth%2fpeopleapi.readonly&response_type=code\n",
            "\n",
            "Enter your authorization code:\n",
            "··········\n",
            "Mounted at /content/drive\n"
          ],
          "name": "stdout"
        }
      ]
    },
    {
      "cell_type": "code",
      "metadata": {
        "id": "JHtRS9Wf9mZc",
        "colab_type": "code",
        "colab": {}
      },
      "source": [
        "#import libraries and packages\n",
        "\n",
        "from numpy.random import seed\n",
        "seed(8) #1\n",
        "\n",
        "import tensorflow\n",
        "tensorflow.random.set_seed(7)\n",
        "\n",
        "import numpy as np # linear algebra\n",
        "import pandas as pd # data processing, CSV file I/O (e.g. pd.read_csv)\n",
        "\n",
        "import os\n",
        "\n",
        "from tensorflow.keras import backend as K\n",
        "from tensorflow.keras.models import Model ,load_model\n",
        "from tensorflow.keras.layers import Flatten, Dense, Dropout\n",
        "from tensorflow.keras.applications.inception_resnet_v2 import InceptionResNetV2, preprocess_input\n",
        "from keras.applications.vgg19 import preprocess_input\n",
        "from keras.applications.vgg19 import decode_predictions\n",
        "from keras.applications.vgg19 import VGG19\n",
        "from tensorflow.keras.optimizers import Adam, RMSprop\n",
        "from tensorflow.keras.preprocessing.image import ImageDataGenerator\n",
        "from tensorflow.keras.callbacks import ModelCheckpoint\n",
        "import numpy as np\n",
        "import tensorflow as tf\n",
        "\n",
        "from tensorflow.python.keras import models\n",
        "from tensorflow.python.keras import layers\n",
        "\n",
        "from tensorflow.keras import optimizers\n",
        "\n",
        "\n"
      ],
      "execution_count": 4,
      "outputs": []
    },
    {
      "cell_type": "code",
      "metadata": {
        "id": "cvTuKxbA_6Qx",
        "colab_type": "code",
        "colab": {
          "base_uri": "https://localhost:8080/",
          "height": 34
        },
        "outputId": "426e1e76-9770-4cbf-c72d-825b5ea78b06"
      },
      "source": [
        "print(os.listdir(\"/content/\"))\n",
        "\n",
        "#Print and remove zips once done\n",
        "\n"
      ],
      "execution_count": 5,
      "outputs": [
        {
          "output_type": "stream",
          "text": [
            "['.config', 'drive', 'sample_data']\n"
          ],
          "name": "stdout"
        }
      ]
    },
    {
      "cell_type": "markdown",
      "metadata": {
        "id": "SW7NXqkh-Gk8",
        "colab_type": "text"
      },
      "source": [
        "**Crete Data Generators to preprocess and prepare training and validation**\n",
        "\n",
        "*   Mục danh sách\n",
        "*   Mục danh sách\n",
        "\n"
      ]
    },
    {
      "cell_type": "code",
      "metadata": {
        "id": "0BfmpmKd-JOb",
        "colab_type": "code",
        "colab": {
          "base_uri": "https://localhost:8080/",
          "height": 126
        },
        "outputId": "309e76d8-fece-42b1-eb3d-9327a2a0f0be"
      },
      "source": [
        "\n",
        "from os import listdir\n",
        "\n",
        "data_list = listdir('/content/drive/My Drive/DATASET/covid-19/four_classes/train')\n",
        "\n",
        "#Delete some classes that may interfere\n",
        "\n",
        "print(len(data_list))\n",
        "\n",
        "\n",
        "DATASET_PATH  = '/content/drive/My Drive/DATASET/covid-19/four_classes/train'\n",
        "test_dir =  '/content/drive/My Drive/DATASET/covid-19/four_classes/test'\n",
        "IMAGE_SIZE    = (128, 128)\n",
        "NUM_CLASSES   = len(data_list)\n",
        "BATCH_SIZE    = 32  # try reducing batch size or freeze more layers if your GPU runs out of memory\n",
        "NUM_EPOCHS    = 80\n",
        "LEARNING_RATE = 0.00001\n",
        "\n",
        "\n",
        "\n",
        "#Train datagen here is a preprocessor\n",
        "train_datagen = ImageDataGenerator(rescale=1./255,\n",
        "                                   rotation_range=50,\n",
        "                                   featurewise_center = True,\n",
        "                                   featurewise_std_normalization = True,\n",
        "                                   width_shift_range=0.2,\n",
        "                                   height_shift_range=0.2,\n",
        "                                   shear_range=0.25,\n",
        "                                   zoom_range=0.1,\n",
        "                                   zca_whitening = True,\n",
        "                                   channel_shift_range = 20,\n",
        "                                   horizontal_flip = True ,\n",
        "                                   vertical_flip = True ,\n",
        "                                   validation_split = 0.2,\n",
        "                                   fill_mode='constant')\n",
        "\n",
        "\n",
        "\n",
        "# For multiclass use categorical n for binary use binary\n",
        "train_batches = train_datagen.flow_from_directory(DATASET_PATH,\n",
        "                                                  target_size=IMAGE_SIZE,\n",
        "                                                  shuffle=True,\n",
        "                                                  batch_size=BATCH_SIZE,\n",
        "                                                  subset = \"training\",\n",
        "                                                  seed=42,\n",
        "                                                  class_mode=\"categorical\"   #For multiclass use categorical n for binary use binary\n",
        "                                                  )\n",
        "\n",
        "valid_batches = train_datagen.flow_from_directory(DATASET_PATH,\n",
        "                                                  target_size=IMAGE_SIZE,\n",
        "                                                  shuffle=True,\n",
        "                                                  batch_size=BATCH_SIZE,\n",
        "                                                  subset = \"validation\",\n",
        "                                                  seed=42,\n",
        "                                                  class_mode=\"categorical\"  #For multiclass use categorical n for binary use binary\n",
        "                                                 \n",
        "                                                  )\n",
        "\n"
      ],
      "execution_count": 6,
      "outputs": [
        {
          "output_type": "stream",
          "text": [
            "4\n"
          ],
          "name": "stdout"
        },
        {
          "output_type": "stream",
          "text": [
            "/usr/local/lib/python3.6/dist-packages/keras_preprocessing/image/image_data_generator.py:342: UserWarning: This ImageDataGenerator specifies `zca_whitening` which overrides setting of`featurewise_std_normalization`.\n",
            "  warnings.warn('This ImageDataGenerator specifies '\n"
          ],
          "name": "stderr"
        },
        {
          "output_type": "stream",
          "text": [
            "Found 1489 images belonging to 4 classes.\n",
            "Found 370 images belonging to 4 classes.\n"
          ],
          "name": "stdout"
        }
      ]
    },
    {
      "cell_type": "code",
      "metadata": {
        "id": "i7748nBfIzv1",
        "colab_type": "code",
        "colab": {
          "base_uri": "https://localhost:8080/",
          "height": 70
        },
        "outputId": "2dfcb14e-af52-4d09-eb39-9d6d526d45e2"
      },
      "source": [
        "path=\"/content/covid-19/four_classes/\"\n",
        "!ls -a /content/covid-19/four_classes/train/.ipynb_checkpoints\n",
        "!rm -R /content/covid-19/four_classes/test/.ipynb_checkpoints \n",
        "!pwd"
      ],
      "execution_count": 7,
      "outputs": [
        {
          "output_type": "stream",
          "text": [
            "ls: cannot access '/content/covid-19/four_classes/train/.ipynb_checkpoints': No such file or directory\n",
            "rm: cannot remove '/content/covid-19/four_classes/test/.ipynb_checkpoints': No such file or directory\n",
            "/content\n"
          ],
          "name": "stdout"
        }
      ]
    },
    {
      "cell_type": "markdown",
      "metadata": {
        "id": "Arc_63PU-O5K",
        "colab_type": "text"
      },
      "source": [
        "Create a new model or Use Pre trained CNN Model and modify according to the need. "
      ]
    },
    {
      "cell_type": "code",
      "metadata": {
        "id": "lyGm7tYQBBr1",
        "colab_type": "code",
        "colab": {
          "base_uri": "https://localhost:8080/",
          "height": 52
        },
        "outputId": "3f0acfde-66eb-4da7-cdd2-265dc4aea76b"
      },
      "source": [
        "#Simple CNN model based on Xception. Set dense layer neuron count same as the no. of output classes \n",
        "#If you wnna use a saved model then skip this step\n",
        "\n",
        "\n",
        "# from tensorflow.keras.applications import Xception\n",
        "\n",
        "conv_base = VGG19(weights='imagenet',\n",
        "                  include_top=False,\n",
        "                  input_shape=(128, 128, 3))\n",
        "\n",
        "\n",
        "conv_base.trainable = True\n",
        "\n",
        "\n",
        "model = models.Sequential()\n",
        "model.add(conv_base)\n",
        "\n",
        "\n",
        "\n",
        "\n",
        "model.add(layers.Flatten())\n",
        "model.add(layers.Dropout(0.5))\n",
        "model.add(layers.Dense(256, activation='relu'))\n",
        "# model.add(layers.Dense(512, activation='relu'))\n",
        "model.add(layers.Dense(4, activation='softmax'))\n",
        "\n",
        "\n",
        "model.compile(loss='categorical_crossentropy',     #for multiclass use categorical_crossentropy\n",
        "              \n",
        "              optimizer=optimizers.Adam(lr=LEARNING_RATE),\n",
        "              metrics=['acc'])"
      ],
      "execution_count": 8,
      "outputs": [
        {
          "output_type": "stream",
          "text": [
            "Downloading data from https://storage.googleapis.com/tensorflow/keras-applications/vgg19/vgg19_weights_tf_dim_ordering_tf_kernels_notop.h5\n",
            "80142336/80134624 [==============================] - 1s 0us/step\n"
          ],
          "name": "stdout"
        }
      ]
    },
    {
      "cell_type": "markdown",
      "metadata": {
        "id": "Ys977cbc6F_T",
        "colab_type": "text"
      },
      "source": [
        "**Load an already saved model (If there is a trained model already saved on drive)**"
      ]
    },
    {
      "cell_type": "code",
      "metadata": {
        "id": "GKDLJZjL-UlA",
        "colab_type": "code",
        "colab": {
          "base_uri": "https://localhost:8080/",
          "height": 1000
        },
        "outputId": "00e3c9de-cb44-4652-e5f6-cfbd37f60658"
      },
      "source": [
        "#Load saved model from .hs file, otherwise disable this line\n",
        "#model=load_model('/content/drive/My Drive/Colab Notebooks/4-class-Covid19-Mod-Xception.h5')\n",
        "print(model.summary())\n",
        "print(\"----------\")\n",
        "print(conv_base.summary())\n"
      ],
      "execution_count": 9,
      "outputs": [
        {
          "output_type": "stream",
          "text": [
            "Model: \"sequential\"\n",
            "_________________________________________________________________\n",
            "Layer (type)                 Output Shape              Param #   \n",
            "=================================================================\n",
            "vgg19 (Functional)           (None, 4, 4, 512)         20024384  \n",
            "_________________________________________________________________\n",
            "flatten (Flatten)            (None, 8192)              0         \n",
            "_________________________________________________________________\n",
            "dropout (Dropout)            (None, 8192)              0         \n",
            "_________________________________________________________________\n",
            "dense (Dense)                (None, 256)               2097408   \n",
            "_________________________________________________________________\n",
            "dense_1 (Dense)              (None, 4)                 1028      \n",
            "=================================================================\n",
            "Total params: 22,122,820\n",
            "Trainable params: 22,122,820\n",
            "Non-trainable params: 0\n",
            "_________________________________________________________________\n",
            "None\n",
            "----------\n",
            "Model: \"vgg19\"\n",
            "_________________________________________________________________\n",
            "Layer (type)                 Output Shape              Param #   \n",
            "=================================================================\n",
            "input_1 (InputLayer)         [(None, 128, 128, 3)]     0         \n",
            "_________________________________________________________________\n",
            "block1_conv1 (Conv2D)        (None, 128, 128, 64)      1792      \n",
            "_________________________________________________________________\n",
            "block1_conv2 (Conv2D)        (None, 128, 128, 64)      36928     \n",
            "_________________________________________________________________\n",
            "block1_pool (MaxPooling2D)   (None, 64, 64, 64)        0         \n",
            "_________________________________________________________________\n",
            "block2_conv1 (Conv2D)        (None, 64, 64, 128)       73856     \n",
            "_________________________________________________________________\n",
            "block2_conv2 (Conv2D)        (None, 64, 64, 128)       147584    \n",
            "_________________________________________________________________\n",
            "block2_pool (MaxPooling2D)   (None, 32, 32, 128)       0         \n",
            "_________________________________________________________________\n",
            "block3_conv1 (Conv2D)        (None, 32, 32, 256)       295168    \n",
            "_________________________________________________________________\n",
            "block3_conv2 (Conv2D)        (None, 32, 32, 256)       590080    \n",
            "_________________________________________________________________\n",
            "block3_conv3 (Conv2D)        (None, 32, 32, 256)       590080    \n",
            "_________________________________________________________________\n",
            "block3_conv4 (Conv2D)        (None, 32, 32, 256)       590080    \n",
            "_________________________________________________________________\n",
            "block3_pool (MaxPooling2D)   (None, 16, 16, 256)       0         \n",
            "_________________________________________________________________\n",
            "block4_conv1 (Conv2D)        (None, 16, 16, 512)       1180160   \n",
            "_________________________________________________________________\n",
            "block4_conv2 (Conv2D)        (None, 16, 16, 512)       2359808   \n",
            "_________________________________________________________________\n",
            "block4_conv3 (Conv2D)        (None, 16, 16, 512)       2359808   \n",
            "_________________________________________________________________\n",
            "block4_conv4 (Conv2D)        (None, 16, 16, 512)       2359808   \n",
            "_________________________________________________________________\n",
            "block4_pool (MaxPooling2D)   (None, 8, 8, 512)         0         \n",
            "_________________________________________________________________\n",
            "block5_conv1 (Conv2D)        (None, 8, 8, 512)         2359808   \n",
            "_________________________________________________________________\n",
            "block5_conv2 (Conv2D)        (None, 8, 8, 512)         2359808   \n",
            "_________________________________________________________________\n",
            "block5_conv3 (Conv2D)        (None, 8, 8, 512)         2359808   \n",
            "_________________________________________________________________\n",
            "block5_conv4 (Conv2D)        (None, 8, 8, 512)         2359808   \n",
            "_________________________________________________________________\n",
            "block5_pool (MaxPooling2D)   (None, 4, 4, 512)         0         \n",
            "=================================================================\n",
            "Total params: 20,024,384\n",
            "Trainable params: 20,024,384\n",
            "Non-trainable params: 0\n",
            "_________________________________________________________________\n",
            "None\n"
          ],
          "name": "stdout"
        }
      ]
    },
    {
      "cell_type": "markdown",
      "metadata": {
        "id": "qh3QQZLz-yLW",
        "colab_type": "text"
      },
      "source": [
        "Training"
      ]
    },
    {
      "cell_type": "code",
      "metadata": {
        "id": "F7IwDhx5-iKe",
        "colab_type": "code",
        "colab": {
          "base_uri": "https://localhost:8080/",
          "height": 1000
        },
        "outputId": "894f3fbd-9c5a-4db3-9bea-b67de2319cd4"
      },
      "source": [
        "#FIT MODEL\n",
        "print(len(train_batches))\n",
        "print(len(valid_batches))\n",
        "\n",
        "STEP_SIZE_TRAIN=train_batches.n//train_batches.batch_size\n",
        "STEP_SIZE_VALID=valid_batches.n//valid_batches.batch_size\n",
        "\n",
        "result=model.fit_generator(train_batches,\n",
        "                        steps_per_epoch =STEP_SIZE_TRAIN,\n",
        "                        validation_data = valid_batches,\n",
        "                        validation_steps = STEP_SIZE_VALID,\n",
        "                        epochs= NUM_EPOCHS,                        \n",
        "                       )\n",
        "\n"
      ],
      "execution_count": 10,
      "outputs": [
        {
          "output_type": "stream",
          "text": [
            "47\n",
            "12\n",
            "WARNING:tensorflow:From <ipython-input-10-378e3394e2b9>:12: Model.fit_generator (from tensorflow.python.keras.engine.training) is deprecated and will be removed in a future version.\n",
            "Instructions for updating:\n",
            "Please use Model.fit, which supports generators.\n"
          ],
          "name": "stdout"
        },
        {
          "output_type": "stream",
          "text": [
            "/usr/local/lib/python3.6/dist-packages/keras_preprocessing/image/image_data_generator.py:720: UserWarning: This ImageDataGenerator specifies `featurewise_center`, but it hasn't been fit on any training data. Fit it first by calling `.fit(numpy_data)`.\n",
            "  warnings.warn('This ImageDataGenerator specifies '\n",
            "/usr/local/lib/python3.6/dist-packages/keras_preprocessing/image/image_data_generator.py:739: UserWarning: This ImageDataGenerator specifies `zca_whitening`, but it hasn't been fit on any training data. Fit it first by calling `.fit(numpy_data)`.\n",
            "  warnings.warn('This ImageDataGenerator specifies '\n"
          ],
          "name": "stderr"
        },
        {
          "output_type": "stream",
          "text": [
            "Epoch 1/80\n",
            "46/46 [==============================] - 755s 16s/step - loss: 1.3963 - acc: 0.3713 - val_loss: 1.1655 - val_acc: 0.4631\n",
            "Epoch 2/80\n",
            "46/46 [==============================] - 47s 1s/step - loss: 1.2439 - acc: 0.4427 - val_loss: 0.9811 - val_acc: 0.5284\n",
            "Epoch 3/80\n",
            "46/46 [==============================] - 47s 1s/step - loss: 1.0554 - acc: 0.5319 - val_loss: 0.9020 - val_acc: 0.5795\n",
            "Epoch 4/80\n",
            "46/46 [==============================] - 47s 1s/step - loss: 0.8692 - acc: 0.6170 - val_loss: 0.8011 - val_acc: 0.6619\n",
            "Epoch 5/80\n",
            "46/46 [==============================] - 47s 1s/step - loss: 0.7721 - acc: 0.6651 - val_loss: 0.6843 - val_acc: 0.7074\n",
            "Epoch 6/80\n",
            "46/46 [==============================] - 47s 1s/step - loss: 0.6621 - acc: 0.7076 - val_loss: 0.7597 - val_acc: 0.7102\n",
            "Epoch 7/80\n",
            "46/46 [==============================] - 47s 1s/step - loss: 0.6043 - acc: 0.7474 - val_loss: 0.6576 - val_acc: 0.7131\n",
            "Epoch 8/80\n",
            "46/46 [==============================] - 47s 1s/step - loss: 0.5374 - acc: 0.7694 - val_loss: 0.5741 - val_acc: 0.7727\n",
            "Epoch 9/80\n",
            "46/46 [==============================] - 47s 1s/step - loss: 0.5230 - acc: 0.7907 - val_loss: 0.5353 - val_acc: 0.7841\n",
            "Epoch 10/80\n",
            "46/46 [==============================] - 47s 1s/step - loss: 0.5341 - acc: 0.7845 - val_loss: 0.5325 - val_acc: 0.7699\n",
            "Epoch 11/80\n",
            "46/46 [==============================] - 48s 1s/step - loss: 0.4523 - acc: 0.8167 - val_loss: 0.6606 - val_acc: 0.7244\n",
            "Epoch 12/80\n",
            "46/46 [==============================] - 47s 1s/step - loss: 0.4679 - acc: 0.8037 - val_loss: 0.5297 - val_acc: 0.7784\n",
            "Epoch 13/80\n",
            "46/46 [==============================] - 47s 1s/step - loss: 0.4569 - acc: 0.8216 - val_loss: 0.6206 - val_acc: 0.7614\n",
            "Epoch 14/80\n",
            "46/46 [==============================] - 47s 1s/step - loss: 0.4154 - acc: 0.8318 - val_loss: 0.5449 - val_acc: 0.7926\n",
            "Epoch 15/80\n",
            "46/46 [==============================] - 47s 1s/step - loss: 0.4220 - acc: 0.8188 - val_loss: 0.4683 - val_acc: 0.8153\n",
            "Epoch 16/80\n",
            "46/46 [==============================] - 47s 1s/step - loss: 0.4096 - acc: 0.8312 - val_loss: 0.5354 - val_acc: 0.7841\n",
            "Epoch 17/80\n",
            "46/46 [==============================] - 47s 1s/step - loss: 0.3827 - acc: 0.8415 - val_loss: 0.6968 - val_acc: 0.7727\n",
            "Epoch 18/80\n",
            "46/46 [==============================] - 47s 1s/step - loss: 0.4092 - acc: 0.8449 - val_loss: 0.5225 - val_acc: 0.8352\n",
            "Epoch 19/80\n",
            "46/46 [==============================] - 47s 1s/step - loss: 0.3885 - acc: 0.8339 - val_loss: 0.6133 - val_acc: 0.7841\n",
            "Epoch 20/80\n",
            "46/46 [==============================] - 47s 1s/step - loss: 0.3665 - acc: 0.8518 - val_loss: 0.4568 - val_acc: 0.8125\n",
            "Epoch 21/80\n",
            "46/46 [==============================] - 47s 1s/step - loss: 0.3438 - acc: 0.8648 - val_loss: 0.5216 - val_acc: 0.7926\n",
            "Epoch 22/80\n",
            "46/46 [==============================] - 47s 1s/step - loss: 0.3662 - acc: 0.8469 - val_loss: 0.6259 - val_acc: 0.7614\n",
            "Epoch 23/80\n",
            "46/46 [==============================] - 47s 1s/step - loss: 0.3487 - acc: 0.8689 - val_loss: 0.5053 - val_acc: 0.8125\n",
            "Epoch 24/80\n",
            "46/46 [==============================] - 47s 1s/step - loss: 0.3036 - acc: 0.8833 - val_loss: 0.6114 - val_acc: 0.7415\n",
            "Epoch 25/80\n",
            "46/46 [==============================] - 47s 1s/step - loss: 0.3191 - acc: 0.8648 - val_loss: 0.7937 - val_acc: 0.7074\n",
            "Epoch 26/80\n",
            "46/46 [==============================] - 47s 1s/step - loss: 0.3361 - acc: 0.8648 - val_loss: 0.4703 - val_acc: 0.8125\n",
            "Epoch 27/80\n",
            "46/46 [==============================] - 47s 1s/step - loss: 0.3617 - acc: 0.8634 - val_loss: 0.5158 - val_acc: 0.8125\n",
            "Epoch 28/80\n",
            "46/46 [==============================] - 47s 1s/step - loss: 0.3036 - acc: 0.8737 - val_loss: 0.5598 - val_acc: 0.8182\n",
            "Epoch 29/80\n",
            "46/46 [==============================] - 47s 1s/step - loss: 0.2804 - acc: 0.8868 - val_loss: 0.5091 - val_acc: 0.8210\n",
            "Epoch 30/80\n",
            "46/46 [==============================] - 47s 1s/step - loss: 0.3110 - acc: 0.8717 - val_loss: 0.5563 - val_acc: 0.8153\n",
            "Epoch 31/80\n",
            "46/46 [==============================] - 47s 1s/step - loss: 0.3034 - acc: 0.8785 - val_loss: 0.4146 - val_acc: 0.8693\n",
            "Epoch 32/80\n",
            "46/46 [==============================] - 47s 1s/step - loss: 0.3008 - acc: 0.8847 - val_loss: 0.4995 - val_acc: 0.8381\n",
            "Epoch 33/80\n",
            "46/46 [==============================] - 47s 1s/step - loss: 0.2783 - acc: 0.8916 - val_loss: 0.4051 - val_acc: 0.8523\n",
            "Epoch 34/80\n",
            "46/46 [==============================] - 47s 1s/step - loss: 0.2772 - acc: 0.8922 - val_loss: 0.3894 - val_acc: 0.8665\n",
            "Epoch 35/80\n",
            "46/46 [==============================] - 47s 1s/step - loss: 0.2516 - acc: 0.8984 - val_loss: 0.5001 - val_acc: 0.8324\n",
            "Epoch 36/80\n",
            "46/46 [==============================] - 47s 1s/step - loss: 0.3037 - acc: 0.8744 - val_loss: 0.4434 - val_acc: 0.8352\n",
            "Epoch 37/80\n",
            "46/46 [==============================] - 47s 1s/step - loss: 0.2844 - acc: 0.8874 - val_loss: 0.3638 - val_acc: 0.8693\n",
            "Epoch 38/80\n",
            "46/46 [==============================] - 47s 1s/step - loss: 0.2433 - acc: 0.8943 - val_loss: 0.3869 - val_acc: 0.8551\n",
            "Epoch 39/80\n",
            "46/46 [==============================] - 46s 1s/step - loss: 0.2719 - acc: 0.8902 - val_loss: 0.4381 - val_acc: 0.8494\n",
            "Epoch 40/80\n",
            "46/46 [==============================] - 47s 1s/step - loss: 0.2437 - acc: 0.9094 - val_loss: 0.4659 - val_acc: 0.8466\n",
            "Epoch 41/80\n",
            "46/46 [==============================] - 47s 1s/step - loss: 0.2396 - acc: 0.8957 - val_loss: 0.4129 - val_acc: 0.8693\n",
            "Epoch 42/80\n",
            "46/46 [==============================] - 47s 1s/step - loss: 0.2578 - acc: 0.8977 - val_loss: 0.5089 - val_acc: 0.8409\n",
            "Epoch 43/80\n",
            "46/46 [==============================] - 48s 1s/step - loss: 0.2389 - acc: 0.9080 - val_loss: 0.4301 - val_acc: 0.8580\n",
            "Epoch 44/80\n",
            "46/46 [==============================] - 47s 1s/step - loss: 0.2355 - acc: 0.9067 - val_loss: 0.4594 - val_acc: 0.8295\n",
            "Epoch 45/80\n",
            "46/46 [==============================] - 47s 1s/step - loss: 0.2180 - acc: 0.9115 - val_loss: 0.3927 - val_acc: 0.8636\n",
            "Epoch 46/80\n",
            "46/46 [==============================] - 46s 1s/step - loss: 0.2256 - acc: 0.9176 - val_loss: 0.4265 - val_acc: 0.8608\n",
            "Epoch 47/80\n",
            "46/46 [==============================] - 47s 1s/step - loss: 0.2099 - acc: 0.9135 - val_loss: 0.3818 - val_acc: 0.8636\n",
            "Epoch 48/80\n",
            "46/46 [==============================] - 47s 1s/step - loss: 0.2230 - acc: 0.9080 - val_loss: 0.4463 - val_acc: 0.8523\n",
            "Epoch 49/80\n",
            "46/46 [==============================] - 47s 1s/step - loss: 0.2210 - acc: 0.9142 - val_loss: 0.4528 - val_acc: 0.8693\n",
            "Epoch 50/80\n",
            "46/46 [==============================] - 47s 1s/step - loss: 0.2171 - acc: 0.9108 - val_loss: 0.4302 - val_acc: 0.8523\n",
            "Epoch 51/80\n",
            "46/46 [==============================] - 46s 1s/step - loss: 0.2350 - acc: 0.9025 - val_loss: 0.4100 - val_acc: 0.8835\n",
            "Epoch 52/80\n",
            "46/46 [==============================] - 47s 1s/step - loss: 0.2134 - acc: 0.9218 - val_loss: 0.4098 - val_acc: 0.8693\n",
            "Epoch 53/80\n",
            "46/46 [==============================] - 47s 1s/step - loss: 0.2273 - acc: 0.9073 - val_loss: 0.4780 - val_acc: 0.8523\n",
            "Epoch 54/80\n",
            "46/46 [==============================] - 47s 1s/step - loss: 0.1899 - acc: 0.9231 - val_loss: 0.4630 - val_acc: 0.8551\n",
            "Epoch 55/80\n",
            "46/46 [==============================] - 47s 1s/step - loss: 0.2214 - acc: 0.9142 - val_loss: 0.3751 - val_acc: 0.8636\n",
            "Epoch 56/80\n",
            "46/46 [==============================] - 48s 1s/step - loss: 0.1975 - acc: 0.9231 - val_loss: 0.4837 - val_acc: 0.8665\n",
            "Epoch 57/80\n",
            "46/46 [==============================] - 46s 1s/step - loss: 0.2144 - acc: 0.9211 - val_loss: 0.4158 - val_acc: 0.8864\n",
            "Epoch 58/80\n",
            "46/46 [==============================] - 47s 1s/step - loss: 0.2100 - acc: 0.9218 - val_loss: 0.4736 - val_acc: 0.8466\n",
            "Epoch 59/80\n",
            "46/46 [==============================] - 47s 1s/step - loss: 0.2050 - acc: 0.9163 - val_loss: 0.4513 - val_acc: 0.8665\n",
            "Epoch 60/80\n",
            "46/46 [==============================] - 47s 1s/step - loss: 0.2196 - acc: 0.9212 - val_loss: 0.4769 - val_acc: 0.8494\n",
            "Epoch 61/80\n",
            "46/46 [==============================] - 47s 1s/step - loss: 0.1920 - acc: 0.9204 - val_loss: 0.4151 - val_acc: 0.8778\n",
            "Epoch 62/80\n",
            "46/46 [==============================] - 47s 1s/step - loss: 0.2164 - acc: 0.9156 - val_loss: 0.3573 - val_acc: 0.8864\n",
            "Epoch 63/80\n",
            "46/46 [==============================] - 47s 1s/step - loss: 0.2100 - acc: 0.9163 - val_loss: 0.4485 - val_acc: 0.8494\n",
            "Epoch 64/80\n",
            "46/46 [==============================] - 47s 1s/step - loss: 0.2045 - acc: 0.9190 - val_loss: 0.5910 - val_acc: 0.7841\n",
            "Epoch 65/80\n",
            "46/46 [==============================] - 47s 1s/step - loss: 0.2112 - acc: 0.9224 - val_loss: 0.4157 - val_acc: 0.8778\n",
            "Epoch 66/80\n",
            "46/46 [==============================] - 47s 1s/step - loss: 0.1774 - acc: 0.9355 - val_loss: 0.3998 - val_acc: 0.8665\n",
            "Epoch 67/80\n",
            "46/46 [==============================] - 47s 1s/step - loss: 0.1798 - acc: 0.9279 - val_loss: 0.3559 - val_acc: 0.8920\n",
            "Epoch 68/80\n",
            "46/46 [==============================] - 47s 1s/step - loss: 0.1755 - acc: 0.9355 - val_loss: 0.3727 - val_acc: 0.8835\n",
            "Epoch 69/80\n",
            "46/46 [==============================] - 47s 1s/step - loss: 0.2120 - acc: 0.9149 - val_loss: 0.4998 - val_acc: 0.8381\n",
            "Epoch 70/80\n",
            "46/46 [==============================] - 47s 1s/step - loss: 0.2093 - acc: 0.9163 - val_loss: 0.4161 - val_acc: 0.8665\n",
            "Epoch 71/80\n",
            "46/46 [==============================] - 47s 1s/step - loss: 0.1941 - acc: 0.9238 - val_loss: 0.3976 - val_acc: 0.8778\n",
            "Epoch 72/80\n",
            "46/46 [==============================] - 47s 1s/step - loss: 0.2030 - acc: 0.9204 - val_loss: 0.5139 - val_acc: 0.8580\n",
            "Epoch 73/80\n",
            "46/46 [==============================] - 47s 1s/step - loss: 0.1572 - acc: 0.9417 - val_loss: 0.3797 - val_acc: 0.8835\n",
            "Epoch 74/80\n",
            "46/46 [==============================] - 47s 1s/step - loss: 0.1546 - acc: 0.9437 - val_loss: 0.4048 - val_acc: 0.8807\n",
            "Epoch 75/80\n",
            "46/46 [==============================] - 47s 1s/step - loss: 0.1486 - acc: 0.9396 - val_loss: 0.5247 - val_acc: 0.8494\n",
            "Epoch 76/80\n",
            "46/46 [==============================] - 47s 1s/step - loss: 0.1627 - acc: 0.9348 - val_loss: 0.4370 - val_acc: 0.8665\n",
            "Epoch 77/80\n",
            "46/46 [==============================] - 47s 1s/step - loss: 0.1525 - acc: 0.9341 - val_loss: 0.4250 - val_acc: 0.8750\n",
            "Epoch 78/80\n",
            "46/46 [==============================] - 47s 1s/step - loss: 0.1344 - acc: 0.9499 - val_loss: 0.3562 - val_acc: 0.9006\n",
            "Epoch 79/80\n",
            "46/46 [==============================] - 47s 1s/step - loss: 0.1974 - acc: 0.9183 - val_loss: 0.4478 - val_acc: 0.8523\n",
            "Epoch 80/80\n",
            "46/46 [==============================] - 47s 1s/step - loss: 0.1651 - acc: 0.9286 - val_loss: 0.4304 - val_acc: 0.8835\n"
          ],
          "name": "stdout"
        }
      ]
    },
    {
      "cell_type": "markdown",
      "metadata": {
        "id": "89ZEQXk50A9-",
        "colab_type": "text"
      },
      "source": [
        "Evaluation"
      ]
    },
    {
      "cell_type": "code",
      "metadata": {
        "id": "tNIFRzOvp1yA",
        "colab_type": "code",
        "colab": {
          "base_uri": "https://localhost:8080/",
          "height": 337
        },
        "outputId": "16ddd93c-ef0b-45bc-cda4-98d1cd6e4cd0"
      },
      "source": [
        "#Plot the accuracy and loss graphs\n",
        "\n",
        "import matplotlib.pyplot as plt\n",
        "\n",
        "\n",
        "def plot_acc_loss(result, epochs):\n",
        "    acc = result.history['acc']\n",
        "    loss = result.history['loss']\n",
        "    val_acc = result.history['val_acc']\n",
        "    val_loss = result.history['val_loss']\n",
        "    plt.figure(figsize=(15, 5))\n",
        "    plt.subplot(121)\n",
        "    plt.plot(range(1,epochs), acc[1:], label='Train accuracy')\n",
        "    plt.plot(range(1,epochs), val_acc[1:], label='Valid accuracy')\n",
        "    plt.title('Accuracy over ' + str(epochs) + ' Epochs', size=15)\n",
        "    plt.legend()\n",
        "    plt.grid(True)\n",
        "    plt.subplot(122)\n",
        "    plt.plot(range(1,epochs), loss[1:], label='Train loss')\n",
        "    plt.plot(range(1,epochs), val_loss[1:], label='Valid loss')\n",
        "    plt.title('Loss over ' + str(epochs) + ' Epochs', size=15)\n",
        "    plt.legend()\n",
        "    plt.grid(True)\n",
        "    plt.show()\n",
        "    \n",
        "plot_acc_loss(result, 80)"
      ],
      "execution_count": 12,
      "outputs": [
        {
          "output_type": "display_data",
          "data": {
            "image/png": "[encoded data removed]",
            "text/plain": [
              "<Figure size 1080x360 with 2 Axes>"
            ]
          },
          "metadata": {
            "tags": [],
            "needs_background": "light"
          }
        }
      ]
    },
    {
      "cell_type": "code",
      "metadata": {
        "id": "g1W_MvpGJ39q",
        "colab_type": "code",
        "colab": {}
      },
      "source": [
        "#Save the trained model and copy to drive\n",
        "\n",
        "model.save('4-class-Covid19-Mod-Xception.h5')\n",
        "#!cp /content/\"4-class-Covid19-Mod-Xception.h5\" /content/drive/\"My Drive\"/\"Colab Notebooks\"\n"
      ],
      "execution_count": null,
      "outputs": []
    },
    {
      "cell_type": "markdown",
      "metadata": {
        "id": "5X6TGa0N-5R0",
        "colab_type": "text"
      },
      "source": [
        "**Evaluate using evaluate Generator**"
      ]
    },
    {
      "cell_type": "code",
      "metadata": {
        "id": "B1Qqa6YG-6kB",
        "colab_type": "code",
        "colab": {
          "base_uri": "https://localhost:8080/",
          "height": 34
        },
        "outputId": "a6b815f2-96e1-41c9-c06a-1b18c522f83a"
      },
      "source": [
        "# Create evaluate data generator from test set\n",
        "#Dont forget shuffle false\n",
        "\n",
        "test_datagen = ImageDataGenerator(rescale=1. / 255)\n",
        "test_dir =  '/content/drive/My Drive/DATASET/covid-19/four_classes/test'\n",
        "eval_generator = test_datagen.flow_from_directory(test_dir,target_size=IMAGE_SIZE,batch_size=1, \n",
        "                                                  shuffle=False, seed=42, class_mode=\"categorical\")\n",
        "eval_generator.reset()    \n"
      ],
      "execution_count": 13,
      "outputs": [
        {
          "output_type": "stream",
          "text": [
            "Found 280 images belonging to 4 classes.\n"
          ],
          "name": "stdout"
        }
      ]
    },
    {
      "cell_type": "code",
      "metadata": {
        "id": "OruQrAjTAbly",
        "colab_type": "code",
        "colab": {
          "base_uri": "https://localhost:8080/",
          "height": 124
        },
        "outputId": "fc72dd33-1cff-4488-ff4d-cef2e3d27504"
      },
      "source": [
        "#Evalute the trained model on evaluate generator\n",
        "eval_generator.reset()  \n",
        "x = model.evaluate_generator(eval_generator,\n",
        "                           steps = np.ceil(len(eval_generator)), \n",
        "                           use_multiprocessing = False,\n",
        "                           verbose = 1,\n",
        "                           workers=1,\n",
        "                           )\n",
        "\n",
        "\n",
        "print('Test loss:' , x[0])\n",
        "print('Test accuracy:',x[1])\n",
        "\n",
        "#Poor test accuracy due to the small dataset size"
      ],
      "execution_count": 14,
      "outputs": [
        {
          "output_type": "stream",
          "text": [
            "WARNING:tensorflow:From <ipython-input-14-71e59a5f24d7>:7: Model.evaluate_generator (from tensorflow.python.keras.engine.training) is deprecated and will be removed in a future version.\n",
            "Instructions for updating:\n",
            "Please use Model.evaluate, which supports generators.\n",
            "280/280 [==============================] - 130s 464ms/step - loss: 0.5048 - acc: 0.8929\n",
            "Test loss: 0.5048151016235352\n",
            "Test accuracy: 0.8928571343421936\n"
          ],
          "name": "stdout"
        }
      ]
    },
    {
      "cell_type": "markdown",
      "metadata": {
        "id": "mqqVSc_tcvGS",
        "colab_type": "text"
      },
      "source": [
        "**Create DataGen on single folder/class and predict !**"
      ]
    },
    {
      "cell_type": "code",
      "metadata": {
        "id": "xarJHwEpcsZQ",
        "colab_type": "code",
        "colab": {
          "base_uri": "https://localhost:8080/",
          "height": 1000
        },
        "outputId": "28f8f686-3625-4724-a9b3-865bb3525e60"
      },
      "source": [
        "IMAGE_SIZE    = (128, 128)\n",
        "test_datagen = ImageDataGenerator(rescale=1. / 255)\n",
        "test_dir =  '/content/drive/My Drive/DATASET/covid-19/four_classes/test'\n",
        "pred_generator = test_datagen.flow_from_directory(\n",
        "        test_dir,target_size=IMAGE_SIZE,\n",
        "        batch_size=1,\n",
        "        shuffle=False,\n",
        "        \n",
        "        seed=42,\n",
        "        \n",
        "        class_mode=\"categorical\")\n",
        "pred_generator.reset()   \n",
        "\n",
        "count=[0,0,0,0]\n",
        "\n",
        "files=pred_generator.filenames\n",
        "\n",
        "for i in range(len(files)):\n",
        "  x,y = pred_generator.next()\n",
        "  img = x\n",
        "  predict=model.predict(img)\n",
        "  \n",
        "  p=np.argmax(predict, axis=-1)\n",
        "  print(str(p[0])+\" \"+files[pred_generator.batch_index-1])\n",
        "  #print(predict)\n",
        "  #p=model.predict_classes(img)\n",
        "  count[p[0]]+=1\n",
        "  \n",
        "#print(str(p[0])+\" \"+files[i]) \n",
        "print(count)\n",
        "  \n"
      ],
      "execution_count": 15,
      "outputs": [
        {
          "output_type": "stream",
          "text": [
            "Found 280 images belonging to 4 classes.\n",
            "0 covid/RX-torace-a-letto-del-paziente-in-unica-proiezione-AP-1-1.jpeg\n",
            "0 covid/S1-new.png\n",
            "0 covid/SARS-10.1148rg.242035193-g04mr34g0-Fig8a-day0.jpeg\n",
            "0 covid/SARS-10.1148rg.242035193-g04mr34g0-Fig8b-day5.jpeg\n",
            "0 covid/SARS-10.1148rg.242035193-g04mr34g0-Fig8c-day10.jpeg\n",
            "0 covid/SARS-10.1148rg.242035193-g04mr34g04a-Fig4a-day7.jpeg\n",
            "0 covid/SARS-10.1148rg.242035193-g04mr34g04b-Fig4b-day12.jpeg\n",
            "0 covid/SARS-10.1148rg.242035193-g04mr34g05x-Fig5-day9.jpeg\n",
            "0 covid/SARS-10.1148rg.242035193-g04mr34g07a-Fig7a-day5.jpeg\n",
            "0 covid/SARS-10.1148rg.242035193-g04mr34g07b-Fig7b-day12.jpeg\n",
            "0 covid/SARS-10.1148rg.242035193-g04mr34g09a-Fig9a-day17.jpeg\n",
            "0 covid/SARS-10.1148rg.242035193-g04mr34g09b-Fig9b-day19.jpeg\n",
            "0 covid/SARS-10.1148rg.242035193-g04mr34g09c-Fig9c-day27.jpeg\n",
            "0 covid/X-ray_of_cyst_in_pneumocystis_pneumonia_1.jpg\n",
            "0 covid/radiol.2020201160.fig3b.jpeg\n",
            "0 covid/radiol.2020201160.fig3c.jpeg\n",
            "0 covid/radiol.2020201160.fig3d.jpeg\n",
            "0 covid/radiol.2020201160.fig6b.jpeg\n",
            "0 covid/radiopaedia-2019-novel-coronavirus-infected-pneumonia.jpg\n",
            "0 covid/right-upper-lobe-pneumonia-9-L.jpg\n",
            "0 covid/right-upper-lobe-pneumonia-9-PA.jpg\n",
            "0 covid/ryct.2020200028.fig1a.jpeg\n",
            "0 covid/ryct.2020200034.fig2.jpeg\n",
            "1 covid/ryct.2020200034.fig5-day0.jpeg\n",
            "0 covid/ryct.2020200034.fig5-day4.jpeg\n",
            "0 covid/ryct.2020200034.fig5-day7.jpeg\n",
            "0 covid/streptococcus-pneumoniae-pneumonia-temporal-evolution-1-day0.jpg\n",
            "0 covid/streptococcus-pneumoniae-pneumonia-temporal-evolution-1-day1.jpg\n",
            "0 covid/streptococcus-pneumoniae-pneumonia-temporal-evolution-1-day2.jpg\n",
            "0 covid/streptococcus-pneumoniae-pneumonia-temporal-evolution-1-day3.jpg\n",
            "0 covid/wong-0000.jpg\n",
            "0 covid/wong-0002.jpg\n",
            "0 covid/wong-0003.jpg\n",
            "0 covid/wong-0004.jpg\n",
            "0 covid/wong-0005.jpg\n",
            "1 normal/IM-0497-0001-0001.jpeg\n",
            "1 normal/IM-0497-0001-0002.jpeg\n",
            "1 normal/IM-0499-0001-0001.jpeg\n",
            "1 normal/IM-0499-0001-0002.jpeg\n",
            "1 normal/IM-0499-0001.jpeg\n",
            "1 normal/IM-0500-0001.jpeg\n",
            "1 normal/IM-0501-0001-0001.jpeg\n",
            "1 normal/IM-0501-0001-0002.jpeg\n",
            "1 normal/IM-0501-0001.jpeg\n",
            "1 normal/IM-0503-0001.jpeg\n",
            "1 normal/IM-0504-0001.jpeg\n",
            "1 normal/IM-0505-0001-0001.jpeg\n",
            "1 normal/IM-0505-0001-0002.jpeg\n",
            "1 normal/IM-0505-0001.jpeg\n",
            "1 normal/IM-0506-0001.jpeg\n",
            "1 normal/IM-0507-0001.jpeg\n",
            "1 normal/IM-0508-0001.jpeg\n",
            "1 normal/IM-0509-0001-0001.jpeg\n",
            "1 normal/IM-0509-0001-0002.jpeg\n",
            "1 normal/IM-0509-0001.jpeg\n",
            "1 normal/IM-0510-0001.jpeg\n",
            "1 normal/IM-0511-0001-0001.jpeg\n",
            "1 normal/IM-0511-0001-0002.jpeg\n",
            "1 normal/IM-0511-0001.jpeg\n",
            "1 normal/IM-0512-0001.jpeg\n",
            "1 normal/IM-0513-0001.jpeg\n",
            "1 normal/IM-0514-0001.jpeg\n",
            "1 normal/IM-0515-0001.jpeg\n",
            "1 normal/IM-0516-0001.jpeg\n",
            "1 normal/IM-0517-0001-0001.jpeg\n",
            "1 normal/IM-0517-0001.jpeg\n",
            "1 normal/IM-0519-0001-0001.jpeg\n",
            "1 normal/IM-0519-0001-0002.jpeg\n",
            "1 normal/IM-0519-0001.jpeg\n",
            "1 normal/IM-0520-0001.jpeg\n",
            "1 normal/IM-0521-0001.jpeg\n",
            "1 normal/IM-0522-0001.jpeg\n",
            "1 normal/IM-0523-0001-0001.jpeg\n",
            "1 normal/IM-0523-0001-0002.jpeg\n",
            "1 normal/IM-0523-0001-0003.jpeg\n",
            "1 normal/IM-0523-0001.jpeg\n",
            "1 normal/IM-0588-0001.jpeg\n",
            "1 normal/IM-0590-0001.jpeg\n",
            "1 normal/IM-0591-0001.jpeg\n",
            "1 normal/IM-0592-0001.jpeg\n",
            "1 normal/IM-0593-0001.jpeg\n",
            "1 normal/IM-0595-0001.jpeg\n",
            "1 normal/IM-0596-0001.jpeg\n",
            "1 normal/IM-0598-0001.jpeg\n",
            "1 normal/IM-0599-0001.jpeg\n",
            "1 normal/IM-0600-0001.jpeg\n",
            "1 normal/IM-0601-0001.jpeg\n",
            "1 normal/IM-0602-0001.jpeg\n",
            "1 normal/IM-0604-0001.jpeg\n",
            "1 normal/IM-0605-0001.jpeg\n",
            "1 normal/IM-0606-0001.jpeg\n",
            "1 normal/IM-0607-0001.jpeg\n",
            "1 normal/IM-0608-0001-0001.jpeg\n",
            "1 normal/IM-0608-0001-0002.jpeg\n",
            "1 normal/IM-0608-0001.jpeg\n",
            "1 normal/IM-0609-0001.jpeg\n",
            "1 normal/IM-0612-0001-0001.jpeg\n",
            "1 normal/IM-0612-0001-0002.jpeg\n",
            "1 normal/IM-0612-0001.jpeg\n",
            "1 normal/IM-0613-0001.jpeg\n",
            "1 normal/NORMAL2-IM-0341-0001.jpeg\n",
            "1 normal/NORMAL2-IM-0343-0001.jpeg\n",
            "1 normal/NORMAL2-IM-0345-0001.jpeg\n",
            "1 normal/NORMAL2-IM-0346-0001.jpeg\n",
            "1 normal/NORMAL2-IM-0347-0001.jpeg\n",
            "1 normal/NORMAL2-IM-0348-0001.jpeg\n",
            "1 normal/NORMAL2-IM-0349-0001.jpeg\n",
            "1 normal/NORMAL2-IM-0350-0001.jpeg\n",
            "1 normal/NORMAL2-IM-0351-0001.jpeg\n",
            "1 normal/NORMAL2-IM-0352-0001.jpeg\n",
            "1 normal/NORMAL2-IM-0353-0001.jpeg\n",
            "1 normal/NORMAL2-IM-0354-0001.jpeg\n",
            "1 normal/NORMAL2-IM-0357-0001.jpeg\n",
            "1 normal/NORMAL2-IM-0359-0001.jpeg\n",
            "1 normal/NORMAL2-IM-0360-0001.jpeg\n",
            "1 normal/NORMAL2-IM-0361-0001.jpeg\n",
            "1 normal/NORMAL2-IM-0362-0001.jpeg\n",
            "1 normal/NORMAL2-IM-0364-0001.jpeg\n",
            "1 normal/NORMAL2-IM-0366-0001.jpeg\n",
            "1 normal/NORMAL2-IM-0368-0001.jpeg\n",
            "1 normal/NORMAL2-IM-0369-0001.jpeg\n",
            "1 normal/NORMAL2-IM-0370-0001.jpeg\n",
            "1 normal/NORMAL2-IM-0372-0001.jpeg\n",
            "1 normal/NORMAL2-IM-0373-0001.jpeg\n",
            "1 normal/NORMAL2-IM-0374-0001-0001.jpeg\n",
            "1 normal/NORMAL2-IM-0374-0001-0002.jpeg\n",
            "1 normal/NORMAL2-IM-0374-0001.jpeg\n",
            "1 normal/NORMAL2-IM-0376-0001.jpeg\n",
            "1 normal/NORMAL2-IM-0378-0001.jpeg\n",
            "1 normal/NORMAL2-IM-0380-0001.jpeg\n",
            "1 normal/NORMAL2-IM-0381-0001.jpeg\n",
            "3 normal/NORMAL2-IM-1437-0001.jpeg\n",
            "3 normal/NORMAL2-IM-1438-0001.jpeg\n",
            "1 normal/NORMAL2-IM-1440-0001.jpeg\n",
            "1 normal/NORMAL2-IM-1442-0001.jpeg\n",
            "2 pneumonia_bacterial/person141_bacteria_677.jpeg\n",
            "2 pneumonia_bacterial/person141_bacteria_678.jpeg\n",
            "2 pneumonia_bacterial/person141_bacteria_681.jpeg\n",
            "2 pneumonia_bacterial/person142_bacteria_682.jpeg\n",
            "2 pneumonia_bacterial/person142_bacteria_683.jpeg\n",
            "2 pneumonia_bacterial/person142_bacteria_684.jpeg\n",
            "2 pneumonia_bacterial/person143_bacteria_687.jpeg\n",
            "3 pneumonia_bacterial/person143_bacteria_688.jpeg\n",
            "1 pneumonia_bacterial/person143_bacteria_689.jpeg\n",
            "2 pneumonia_bacterial/person144_bacteria_690.jpeg\n",
            "2 pneumonia_bacterial/person145_bacteria_696.jpeg\n",
            "2 pneumonia_bacterial/person146_bacteria_700.jpeg\n",
            "2 pneumonia_bacterial/person146_bacteria_703.jpeg\n",
            "2 pneumonia_bacterial/person146_bacteria_704.jpeg\n",
            "2 pneumonia_bacterial/person147_bacteria_705.jpeg\n",
            "2 pneumonia_bacterial/person147_bacteria_706.jpeg\n",
            "2 pneumonia_bacterial/person171_bacteria_826.jpeg\n",
            "3 pneumonia_bacterial/person172_bacteria_827.jpeg\n",
            "3 pneumonia_bacterial/person172_bacteria_828.jpeg\n",
            "2 pneumonia_bacterial/person173_bacteria_829.jpeg\n",
            "2 pneumonia_bacterial/person173_bacteria_830.jpeg\n",
            "2 pneumonia_bacterial/person173_bacteria_831.jpeg\n",
            "3 pneumonia_bacterial/person174_bacteria_832.jpeg\n",
            "2 pneumonia_bacterial/person175_bacteria_833.jpeg\n",
            "2 pneumonia_bacterial/person175_bacteria_834.jpeg\n",
            "2 pneumonia_bacterial/person175_bacteria_835.jpeg\n",
            "2 pneumonia_bacterial/person75_bacteria_368.jpeg\n",
            "2 pneumonia_bacterial/person75_bacteria_369.jpeg\n",
            "3 pneumonia_bacterial/person76_bacteria_370.jpeg\n",
            "2 pneumonia_bacterial/person76_bacteria_371.jpeg\n",
            "1 pneumonia_bacterial/person76_bacteria_372.jpeg\n",
            "2 pneumonia_bacterial/person77_bacteria_374.jpeg\n",
            "2 pneumonia_bacterial/person77_bacteria_375.jpeg\n",
            "2 pneumonia_bacterial/person77_bacteria_376.jpeg\n",
            "2 pneumonia_bacterial/person77_bacteria_377.jpeg\n",
            "2 pneumonia_bacterial/person80_bacteria_389.jpeg\n",
            "2 pneumonia_bacterial/person80_bacteria_390.jpeg\n",
            "2 pneumonia_bacterial/person80_bacteria_391.jpeg\n",
            "2 pneumonia_bacterial/person80_bacteria_392.jpeg\n",
            "2 pneumonia_bacterial/person80_bacteria_393.jpeg\n",
            "2 pneumonia_bacterial/person81_bacteria_395.jpeg\n",
            "2 pneumonia_bacterial/person81_bacteria_396.jpeg\n",
            "3 pneumonia_bacterial/person81_bacteria_397.jpeg\n",
            "2 pneumonia_bacterial/person81_bacteria_398.jpeg\n",
            "2 pneumonia_bacterial/person82_bacteria_402.jpeg\n",
            "2 pneumonia_bacterial/person82_bacteria_403.jpeg\n",
            "2 pneumonia_bacterial/person82_bacteria_404.jpeg\n",
            "2 pneumonia_bacterial/person82_bacteria_405.jpeg\n",
            "1 pneumonia_bacterial/person83_bacteria_407.jpeg\n",
            "2 pneumonia_bacterial/person83_bacteria_409.jpeg\n",
            "2 pneumonia_bacterial/person83_bacteria_410.jpeg\n",
            "2 pneumonia_bacterial/person83_bacteria_411.jpeg\n",
            "2 pneumonia_bacterial/person83_bacteria_412.jpeg\n",
            "2 pneumonia_bacterial/person83_bacteria_414.jpeg\n",
            "2 pneumonia_bacterial/person85_bacteria_417.jpeg\n",
            "3 pneumonia_bacterial/person85_bacteria_419.jpeg\n",
            "2 pneumonia_bacterial/person85_bacteria_421.jpeg\n",
            "2 pneumonia_bacterial/person85_bacteria_422.jpeg\n",
            "2 pneumonia_bacterial/person85_bacteria_423.jpeg\n",
            "2 pneumonia_bacterial/person85_bacteria_424.jpeg\n",
            "2 pneumonia_bacterial/person86_bacteria_428.jpeg\n",
            "2 pneumonia_bacterial/person86_bacteria_429.jpeg\n",
            "2 pneumonia_bacterial/person87_bacteria_433.jpeg\n",
            "2 pneumonia_bacterial/person87_bacteria_434.jpeg\n",
            "2 pneumonia_bacterial/person88_bacteria_437.jpeg\n",
            "2 pneumonia_bacterial/person88_bacteria_438.jpeg\n",
            "1 pneumonia_bacterial/person88_bacteria_439.jpeg\n",
            "3 pneumonia_bacterial/person89_bacteria_440.jpeg\n",
            "3 pneumonia_bacterial/person90_bacteria_442.jpeg\n",
            "2 pneumonia_bacterial/person90_bacteria_443.jpeg\n",
            "1 pneumonia_bacterial/person91_bacteria_445.jpeg\n",
            "2 pneumonia_bacterial/person91_bacteria_446.jpeg\n",
            "2 pneumonia_bacterial/person91_bacteria_447.jpeg\n",
            "2 pneumonia_bacterial/person91_bacteria_448.jpeg\n",
            "2 pneumonia_bacterial/person91_bacteria_449.jpeg\n",
            "3 pneumonia_viral/person10_virus_35.jpeg\n",
            "3 pneumonia_viral/person11_virus_38.jpeg\n",
            "3 pneumonia_viral/person14_virus_44.jpeg\n",
            "1 pneumonia_viral/person15_virus_46.jpeg\n",
            "3 pneumonia_viral/person1647_virus_2848.jpeg\n",
            "3 pneumonia_viral/person1649_virus_2850.jpeg\n",
            "3 pneumonia_viral/person1650_virus_2852.jpeg\n",
            "3 pneumonia_viral/person1650_virus_2854.jpeg\n",
            "3 pneumonia_viral/person1651_virus_2855.jpeg\n",
            "3 pneumonia_viral/person1653_virus_2858.jpeg\n",
            "3 pneumonia_viral/person1653_virus_2859.jpeg\n",
            "3 pneumonia_viral/person1655_virus_2861.jpeg\n",
            "3 pneumonia_viral/person1656_virus_2862.jpeg\n",
            "3 pneumonia_viral/person1657_virus_2864.jpeg\n",
            "3 pneumonia_viral/person1659_virus_2867.jpeg\n",
            "3 pneumonia_viral/person1660_virus_2869.jpeg\n",
            "3 pneumonia_viral/person1661_virus_2872.jpeg\n",
            "3 pneumonia_viral/person1661_virus_2873.jpeg\n",
            "3 pneumonia_viral/person1662_virus_2875.jpeg\n",
            "3 pneumonia_viral/person1663_virus_2876.jpeg\n",
            "3 pneumonia_viral/person1664_virus_2877.jpeg\n",
            "3 pneumonia_viral/person1665_virus_2878.jpeg\n",
            "3 pneumonia_viral/person1667_virus_2881.jpeg\n",
            "3 pneumonia_viral/person1668_virus_2882.jpeg\n",
            "3 pneumonia_viral/person1669_virus_2884.jpeg\n",
            "3 pneumonia_viral/person1669_virus_2885.jpeg\n",
            "3 pneumonia_viral/person1670_virus_2886.jpeg\n",
            "3 pneumonia_viral/person1671_virus_2887.jpeg\n",
            "3 pneumonia_viral/person1672_virus_2888.jpeg\n",
            "3 pneumonia_viral/person1673_virus_2889.jpeg\n",
            "3 pneumonia_viral/person1674_virus_2890.jpeg\n",
            "3 pneumonia_viral/person1675_virus_2891.jpeg\n",
            "3 pneumonia_viral/person1676_virus_2892.jpeg\n",
            "3 pneumonia_viral/person1678_virus_2895.jpeg\n",
            "3 pneumonia_viral/person1679_virus_2896.jpeg\n",
            "3 pneumonia_viral/person1680_virus_2897.jpeg\n",
            "3 pneumonia_viral/person1682_virus_2899.jpeg\n",
            "2 pneumonia_viral/person1685_virus_2903.jpeg\n",
            "1 pneumonia_viral/person16_virus_47.jpeg\n",
            "3 pneumonia_viral/person17_virus_48.jpeg\n",
            "2 pneumonia_viral/person18_virus_49.jpeg\n",
            "1 pneumonia_viral/person19_virus_50.jpeg\n",
            "2 pneumonia_viral/person1_virus_11.jpeg\n",
            "2 pneumonia_viral/person1_virus_12.jpeg\n",
            "2 pneumonia_viral/person1_virus_13.jpeg\n",
            "2 pneumonia_viral/person1_virus_6.jpeg\n",
            "2 pneumonia_viral/person1_virus_7.jpeg\n",
            "2 pneumonia_viral/person1_virus_8.jpeg\n",
            "2 pneumonia_viral/person1_virus_9.jpeg\n",
            "3 pneumonia_viral/person20_virus_51.jpeg\n",
            "3 pneumonia_viral/person21_virus_52.jpeg\n",
            "3 pneumonia_viral/person21_virus_53.jpeg\n",
            "3 pneumonia_viral/person22_virus_54.jpeg\n",
            "3 pneumonia_viral/person22_virus_55.jpeg\n",
            "3 pneumonia_viral/person23_virus_56.jpeg\n",
            "3 pneumonia_viral/person24_virus_58.jpeg\n",
            "3 pneumonia_viral/person25_virus_59.jpeg\n",
            "3 pneumonia_viral/person26_virus_60.jpeg\n",
            "3 pneumonia_viral/person28_virus_62.jpeg\n",
            "3 pneumonia_viral/person28_virus_63.jpeg\n",
            "3 pneumonia_viral/person29_virus_64.jpeg\n",
            "3 pneumonia_viral/person30_virus_69.jpeg\n",
            "3 pneumonia_viral/person31_virus_70.jpeg\n",
            "3 pneumonia_viral/person32_virus_71.jpeg\n",
            "3 pneumonia_viral/person33_virus_72.jpeg\n",
            "3 pneumonia_viral/person3_virus_15.jpeg\n",
            "3 pneumonia_viral/person3_virus_16.jpeg\n",
            "3 pneumonia_viral/person3_virus_17.jpeg\n",
            "2 pneumonia_viral/person8_virus_27.jpeg\n",
            "3 pneumonia_viral/person8_virus_28.jpeg\n",
            "[34, 107, 71, 68]\n"
          ],
          "name": "stdout"
        }
      ]
    },
    {
      "cell_type": "markdown",
      "metadata": {
        "id": "8OXyHsp_9DVT",
        "colab_type": "text"
      },
      "source": [
        "### **`Predict Results using predict generator and evaluate the accuracy and Confusion matrix `**"
      ]
    },
    {
      "cell_type": "code",
      "metadata": {
        "id": "fHiC3ceg3Fip",
        "colab_type": "code",
        "colab": {
          "base_uri": "https://localhost:8080/",
          "height": 736
        },
        "outputId": "a7b5aecb-6846-4578-f968-f3738729209f"
      },
      "source": [
        "from sklearn.metrics import confusion_matrix\n",
        "from sklearn.metrics import plot_confusion_matrix\n",
        "from sklearn.metrics import classification_report\n",
        "\n",
        "\n",
        "\n",
        "filenames = eval_generator.filenames\n",
        "nb_samples = len(filenames)\n",
        "eval_generator.reset()  \n",
        "predict = model.predict_generator(eval_generator,steps = np.ceil(len(eval_generator)))\n",
        "pp=predict\n",
        "predict=np.argmax(predict, axis=-1)\n",
        "classes= eval_generator.classes[eval_generator.index_array]\n",
        "acc=sum(predict==classes)/len(predict)\n",
        "names=[\"covid\",\"normal\",\"pneumonia_bac\",\"pneumonia_vir\"]\n",
        "print(confusion_matrix(classes,predict))\n",
        "\n",
        "font = {\n",
        "'family': 'Times New Roman',\n",
        "'size': 12\n",
        "}\n",
        "plt.rc('font', **font)\n",
        "cm = confusion_matrix(classes, predict)\n",
        "print(cm)\n",
        "print(classification_report(classes,predict))\n",
        "plt.imshow(cm, cmap=plt.cm.Blues)\n",
        "plt.xlabel('Predicted labels \\nAccuracy: {:0.2f}'.format(acc*100))\n",
        "plt.ylabel(\"True labels\")\n",
        "plt.xticks(classes, [])\n",
        "plt.yticks(classes, [])\n",
        "plt.title('Confusion matrix ')\n",
        "plt.colorbar()\n",
        "plt.show()"
      ],
      "execution_count": 16,
      "outputs": [
        {
          "output_type": "stream",
          "text": [
            "WARNING:tensorflow:From <ipython-input-16-9bf31a7afc5d>:10: Model.predict_generator (from tensorflow.python.keras.engine.training) is deprecated and will be removed in a future version.\n",
            "Instructions for updating:\n",
            "Please use Model.predict, which supports generators.\n",
            "[[34  1  0  0]\n",
            " [ 0 98  0  2]\n",
            " [ 0  5 61  9]\n",
            " [ 0  3 10 57]]\n",
            "[[34  1  0  0]\n",
            " [ 0 98  0  2]\n",
            " [ 0  5 61  9]\n",
            " [ 0  3 10 57]]\n",
            "              precision    recall  f1-score   support\n",
            "\n",
            "           0       1.00      0.97      0.99        35\n",
            "           1       0.92      0.98      0.95       100\n",
            "           2       0.86      0.81      0.84        75\n",
            "           3       0.84      0.81      0.83        70\n",
            "\n",
            "    accuracy                           0.89       280\n",
            "   macro avg       0.90      0.89      0.90       280\n",
            "weighted avg       0.89      0.89      0.89       280\n",
            "\n"
          ],
          "name": "stdout"
        },
        {
          "output_type": "stream",
          "text": [
            "findfont: Font family ['Times New Roman'] not found. Falling back to DejaVu Sans.\n",
            "findfont: Font family ['Times New Roman'] not found. Falling back to DejaVu Sans.\n"
          ],
          "name": "stderr"
        },
        {
          "output_type": "display_data",
          "data": {
            "image/png": "[encoded data removed]",
            "text/plain": [
              "<Figure size 432x288 with 2 Axes>"
            ]
          },
          "metadata": {
            "tags": [],
            "needs_background": "light"
          }
        }
      ]
    }
  ]
}